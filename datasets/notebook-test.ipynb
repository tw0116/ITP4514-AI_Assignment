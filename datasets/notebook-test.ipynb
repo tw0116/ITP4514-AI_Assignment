{
 "cells": [
  {
   "cell_type": "markdown",
   "metadata": {},
   "source": [
    "# MTR Datasets Test"
   ]
  },
  {
   "cell_type": "code",
   "execution_count": 11,
   "metadata": {},
   "outputs": [],
   "source": [
    "from urllib import response\n",
    "import requests\n",
    "import json"
   ]
  },
  {
   "cell_type": "code",
   "execution_count": 12,
   "metadata": {},
   "outputs": [
    {
     "data": {
      "text/plain": [
       "'{\\n    \"sys_time\": \"2022-10-14 1:20:40\",\\n    \"curr_time\": \"2022-10-14 01:20:40\",\\n    \"data\": {\\n        \"TCL-HOK\": {\\n            \"curr_time\": \"2022-10-14 01:20:40\",\\n            \"sys_time\": \"2022-10-14 1:20:40\",\\n            \"UP\": [],\\n            \"DOWN\": []\\n        }\\n    },\\n    \"status\": 1,\\n    \"message\": \"successful\",\\n    \"isdelay\": \"N\"\\n}'"
      ]
     },
     "execution_count": 12,
     "metadata": {},
     "output_type": "execute_result"
    }
   ],
   "source": [
    "api = \"https://rt.data.gov.hk/v1/transport/mtr/getSchedule.php?\"\n",
    "\n",
    "line = str(input(\"Enter Line: \"))\n",
    "station = str(input(\"Enter Station: \"))\n",
    "\n",
    "payload = {\"line\": line, \"sta\": station}\n",
    "apiRequest = requests.get(api, params=payload)\n",
    "\n",
    "datasets_mtr = json.dumps(apiRequest.json(), indent=4)\n",
    "datasets_mtr"
   ]
  }
 ],
 "metadata": {
  "kernelspec": {
   "display_name": "Python 3.10.5 64-bit",
   "language": "python",
   "name": "python3"
  },
  "language_info": {
   "codemirror_mode": {
    "name": "ipython",
    "version": 3
   },
   "file_extension": ".py",
   "mimetype": "text/x-python",
   "name": "python",
   "nbconvert_exporter": "python",
   "pygments_lexer": "ipython3",
   "version": "3.10.5"
  },
  "orig_nbformat": 4,
  "vscode": {
   "interpreter": {
    "hash": "e593ac106456af50ce7af38f9671c411b49d6cd90f9b885e167f0f594e09038c"
   }
  }
 },
 "nbformat": 4,
 "nbformat_minor": 2
}
