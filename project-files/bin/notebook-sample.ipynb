{
 "cells": [
  {
   "cell_type": "code",
   "execution_count": 2,
   "id": "a29c9b4c",
   "metadata": {},
   "outputs": [],
   "source": [
    "from urllib import response\n",
    "import requests\n",
    "import json"
   ]
  },
  {
   "cell_type": "code",
   "execution_count": 3,
   "id": "39940d8c",
   "metadata": {},
   "outputs": [
    {
     "name": "stdout",
     "output_type": "stream",
     "text": [
      "Enter Line: TML\n",
      "Enter Station: ETS\n",
      "{'sys_time': '2022-10-14 0:25:19', 'curr_time': '2022-10-14 00:25:09', 'data': {'TML-ETS': {'curr_time': '2022-10-14 00:25:09', 'sys_time': '2022-10-14 0:25:19', 'UP': [{'seq': '1', 'dest': 'TUM', 'plat': '1', 'time': '2022-10-14 00:28:09', 'ttnt': '3', 'valid': 'Y', 'source': '-'}, {'seq': '2', 'dest': 'TUM', 'plat': '1', 'time': '2022-10-14 00:35:09', 'ttnt': '10', 'valid': 'Y', 'source': '-'}], 'DOWN': [{'seq': '1', 'dest': 'WKS', 'plat': '2', 'time': '2022-10-14 00:27:09', 'ttnt': '2', 'valid': 'Y', 'source': '-'}, {'seq': '2', 'dest': 'WKS', 'plat': '2', 'time': '2022-10-14 00:33:09', 'ttnt': '8', 'valid': 'Y', 'source': '-'}, {'seq': '3', 'dest': 'WKS', 'plat': '2', 'time': '2022-10-14 00:39:09', 'ttnt': '14', 'valid': 'Y', 'source': '-'}, {'seq': '4', 'dest': 'WKS', 'plat': '2', 'time': '2022-10-14 00:45:09', 'ttnt': '20', 'valid': 'Y', 'source': '-'}]}}, 'status': 1, 'message': 'successful', 'isdelay': 'N'}\n"
     ]
    }
   ],
   "source": [
    "line = str(input(\"Enter Line: \"))\n",
    "station = str(input(\"Enter Station: \"))\n",
    "\n",
    "payload = {\"line\": line, \"sta\": station}\n",
    "\n",
    "r = requests.get(\n",
    "    \"https://rt.data.gov.hk/v1/transport/mtr/getSchedule.php?\", params=payload)\n",
    "\n",
    "print(r.json())\n",
    "\n",
    "mtr_obj = json.dumps(r.json(), indent = 4)\n",
    "\n",
    "with open(\"mtr.json\", \"w\") as file:\n",
    "    file.write(mtr_obj)"
   ]
  },
  {
   "cell_type": "code",
   "execution_count": null,
   "id": "df1724ca",
   "metadata": {},
   "outputs": [],
   "source": [
    "tsuen_wan_line = [[\"Tusen Wan\", \"Tai Wo Hau\"],\n",
    "               [\"Tai Wo Hau\", \"Kwai Hing\"],\n",
    "               [\"Kwai Hing\", \"Kwai Fong\"],\n",
    "               [\"Kwan Fong\", \"Lai King red\"],\n",
    "               [\"Lai King red\", \"Lai King orange\"],\n",
    "               [\"Lai King red\", \"Mei Foo\"],\n",
    "               [\"Mei Foo\", \"Cheung Sha Wan\"],\n",
    "               [\"Cheung Sha Wan\", \"Sham Shui Po\"],\n",
    "               [\"Sham Shui Po\", \"Prince Edward red\"],\n",
    "               [\"Prince Edward red\", \"Prince Edward green\"],\n",
    "               [\"Prince Edward red\", \"Mong Kok red\"],\n",
    "               [\"Mong Kok red\", \"Mong Kok green\"],\n",
    "               [\"Mong Kok red\", \"Yau Ma Tei red\"],\n",
    "               [\"Yau Ma tei red\", \"Yau Ma Tei green\"],\n",
    "               [\"Yau Ma Tei red\", \"Jordan\"],\n",
    "               [\"Jordan\", \"Tsim Sha Tsui\"],\n",
    "               [\"Tsim sha Tsui\", \"Admiralty\"],\n",
    "               [\"Admiralty\", \"Central\"]]\n",
    "\n",
    "tung_chung_line = [[\"Tung Chung\", \"Sunny Bay\"],\n",
    "                [\"Sunny Bay\", \"Tsing Yi\"],\n",
    "                [\"Tsing Yi\", \"Lai King orange\"],\n",
    "                [\"Lai King orange\", \"Lai King red\"],\n",
    "                [\"Lai King orange\", \"Nam Cheong\"],\n",
    "                [\"Nam Cheong\", \"Olympics\"],\n",
    "                [\"Olympics\", \"Kowloon\"],\n",
    "                [\"Kowloon\", \"Hong Kong\"]]\n",
    "\n",
    "kwun_tong_line = [[\"Tiu Keng Leng\", \"Yau Tong\"],\n",
    "                 [\"Yau Tong\", \"Lam Tin\"],\n",
    "                 [\"Lam Tin\", \"Kwun Tong\"],\n",
    "                 [\"Kwun Tong\", \"Ngau Tau Kwok\"],\n",
    "                 [\"Ngau Tau Kwok\", \"Kowloon Bay\"],\n",
    "                 [\"Kowloon Bay\", \"Choi Hong\"],\n",
    "                 [\"Choi Hong\", \"Diamond Hill\"],\n",
    "                 [\"Diamond Hill\", \"Wong Tai Sin\"],\n",
    "                 [\"Wong Tai Sin\", \"Lok Fu\"],\n",
    "                 [\"Lok Fu\", \"Kowloon Tong green\"],\n",
    "                 [\"Kowloon Tong green\", \"Kowloon Tong blue\"],\n",
    "                 [\"Kowloon Tong green\", \"Shek Kip Mei\"],\n",
    "                 [\"Shek Kip Mei\", \"Prince Edward green\"],\n",
    "                 [\"Prince Edward green\", \"Prince Edward red\"],\n",
    "                 [\"Prince Edward green\", \"Mong Kok green\"],\n",
    "                 [\"Mong Kok green\", \"Mong Kok red\"],\n",
    "                 [\"Mong Kok green\", \"Yau Ma Tei green\"],\n",
    "                 [\"Yau Ma Tei green\", \"Yau Ma Tei red\"],\n",
    "                 [\"Yau Ma Tei green\", \"Ho Man Tin\"],\n",
    "                 [\"Ho Man Tin\", \"Whampoa\"]]\n",
    "\n",
    "\n"
   ]
  }
 ],
 "metadata": {
  "kernelspec": {
   "display_name": "Python 3.10.5 64-bit",
   "language": "python",
   "name": "python3"
  },
  "language_info": {
   "codemirror_mode": {
    "name": "ipython",
    "version": 3
   },
   "file_extension": ".py",
   "mimetype": "text/x-python",
   "name": "python",
   "nbconvert_exporter": "python",
   "pygments_lexer": "ipython3",
   "version": "3.10.5"
  },
  "vscode": {
   "interpreter": {
    "hash": "e593ac106456af50ce7af38f9671c411b49d6cd90f9b885e167f0f594e09038c"
   }
  }
 },
 "nbformat": 4,
 "nbformat_minor": 5
}
