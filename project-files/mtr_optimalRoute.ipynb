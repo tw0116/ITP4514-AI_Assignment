{
 "cells": [
  {
   "cell_type": "markdown",
   "metadata": {},
   "source": [
    "# Optimal Path for Taking MTR Trains"
   ]
  },
  {
   "cell_type": "code",
   "execution_count": 1,
   "metadata": {},
   "outputs": [],
   "source": [
    "import json\n",
    "from pprint import PrettyPrinter, pprint"
   ]
  },
  {
   "cell_type": "code",
   "execution_count": 2,
   "metadata": {},
   "outputs": [
    {
     "name": "stdout",
     "output_type": "stream",
     "text": [
      "{'tsuen wan/twl': [['tai wo hau/twl', 2.0]], 'tai wo hau/twl': [['tsuen wan/twl', 2.0], ['kwai hing/twl', 2.0]], 'kwai hing/twl': [['tai wo hau/twl', 2.0], ['kwai fong/twl', 2.0]], 'kwai fong/twl': [['kwai hing/twl', 2.0], ['lai king/twl', 2.0]], 'lai king/twl': [['kwai fong/twl', 2.0], ['mei foo/twl', 2.0], ['lai king/tcl', 0]], 'mei foo/twl': [['lai king/twl', 2.0], ['lai chi kok/twl', 2.0]], 'lai chi kok/twl': [['mei foo/twl', 2.0], ['cheung sha wan/twl', 2.0]], 'cheung sha wan/twl': [['lai chi kok/twl', 2.0], ['sham shui po/twl', 2.0]], 'sham shui po/twl': [['cheung sha wan/twl', 2.0], ['prince edward/twl', 2.0]], 'prince edward/twl': [['sham shui po/twl', 2.0], ['mong kok/twl', 2.0], ['prince edward/ktl', 0]], 'mong kok/twl': [['prince edward/twl', 2.0], ['yau ma tei/twl', 2.0], ['mong kok/ktl', 0]], 'yau ma tei/twl': [['mong kok/twl', 2.0], ['jordan/twl', 2.0], ['yau ma tei/ktl', 0]], 'jordan/twl': [['yau ma tei/twl', 2.0], ['tsim sha tsui/twl', 2.0]], 'tsim sha tsui/twl': [['jordan/twl', 2.0], ['admiralty/twl', 2.0]], 'admiralty/twl': [['tsim sha tsui/twl', 2.0], ['central/twl', 2.0], ['admiralty/il', 0]], 'central/twl': [['admiralty/twl', 2.0], ['central/il', 0]], 'tung chung/tcl': [['sunny bay/tcl', 3.3]], 'sunny bay/tcl': [['tung chung/tcl', 3.3], ['tsing yi/tcl', 3.3]], 'tsing yi/tcl': [['sunny bay/tcl', 3.3], ['lai king/tcl', 3.3]], 'lai king/tcl': [['tsing yi/tcl', 3.3], ['nam cheong/tcl', 3.3], ['lai king/twl', 0]], 'nam cheong/tcl': [['lai king/tcl', 3.3], ['olympic/tcl', 3.3]], 'olympic/tcl': [['nam cheong/tcl', 3.3], ['kowloon/tcl', 3.3]], 'kowloon/tcl': [['olympic/tcl', 3.3], ['hong kong/tcl', 3.3]], 'hong kong/tcl': [['kowloon/tcl', 3.3], ['central/il', 0]], 'whampoa/ktl': [['ho man tin/ktl', 4.2]], 'ho man tin/ktl': [['whampoa/ktl', 4.2], ['yau ma tei/ktl', 2.0]], 'yau ma tei/ktl': [['ho man tin/ktl', 2.0], ['mong kok/ktl', 2.0], ['yau ma tei/twl', 0]], 'mong kok/ktl': [['yau ma tei/ktl', 2.0], ['prince edward/ktl', 2.0], ['mong kok/twl', 0]], 'prince edward/ktl': [['mong kok/ktl', 2.0], ['shek kip mei/ktl', 2.0], ['prince edward/twl', 0]], 'shek kip mei/ktl': [['prince edward/ktl', 2.0], ['kowloon tong/ktl', 2.0]], 'kowloon tong/ktl': [['shek kip mei/ktl', 2.0], ['lok fu/ktl', 2.0]], 'lok fu/ktl': [['kowloon tong/ktl', 2.0], ['wong tai sin/ktl', 2.0]], 'wong tai sin/ktl': [['lok fu/ktl', 2.0], ['diamond hill/ktl', 2.0]], 'diamond hill/ktl': [['wong tai sin/ktl', 2.0], ['choi hung/ktl', 2.0]], 'choi hung/ktl': [['diamond hill/ktl', 2.0], ['kowloon bay/ktl', 2.0]], 'kowloon bay/ktl': [['choi hung/ktl', 2.0], ['ngau tau kok/ktl', 2.0]], 'ngau tau kok/ktl': [['kowloon bay/ktl', 2.0], ['kwun tong/ktl', 2.0]], 'kwun tong/ktl': [['ngau tau kok/ktl', 2.0], ['lam tin/ktl', 2.0]], 'lam tin/ktl': [['kwun tong/ktl', 2.0], ['yau tong/ktl', 2.0]], 'yau tong/ktl': [['lam tin/ktl', 2.0], ['tiu keng leng/ktl', 2.0], ['yau tong/tkol', 0]], 'tiu keng leng/ktl': [['yau tong/ktl', 2.0], ['tiu keng leng/tkol', 0]], 'kennedy town/il': [['hku/il', 1.9]], 'hku/il': [['kennedy town/il', 1.9], ['sai ying pun/il', 1.9]], 'sai ying pun/il': [['hku/il', 1.9], ['sheung wan/il', 1.9]], 'sheung wan/il': [['sai ying pun/il', 1.9], ['central/il', 1.9]], 'central/il': [['sheung wan/il', 1.9], ['admiralty/il', 1.9], ['central/twl', 0]], 'admiralty/il': [['central/il', 1.9], ['wan chai/il', 1.9], ['admiralty/twl', 0]], 'wan chai/il': [['admiralty/il', 1.9], ['causeway bay/il', 1.9]], 'causeway bay/il': [['wan chai/il', 1.9], ['tin hau/il', 1.9]], 'tin hau/il': [['causeway bay/il', 1.9], ['fortress hill/il', 1.9]], 'fortress hill/il': [['tin hau/il', 1.9], ['north point/il', 1.9]], 'north point/il': [['fortress hill/il', 1.9], ['quarry bay/il', 1.9], ['north point/tkol', 0]], 'quarry bay/il': [['north point/il', 1.9], ['tai koo/il', 1.9], ['quarry bay/tkol', 0]], 'tai koo/il': [['quarry bay/il', 1.9], ['sai wan ho/il', 1.9]], 'sai wan ho/il': [['tai koo/il', 1.9], ['shau kei wan/il', 1.9]], 'shau kei wan/il': [['sai wan ho/il', 1.9], ['heng fa chuen/il', 1.9]], 'heng fa chuen/il': [['shau kei wan/il', 1.9], ['chai wan/il', 1.9]], 'chai wan/il': [['heng fa chuen/il', 1.9]], 'po lam/tkol': [['hang hau/tkol', 4.2]], 'hang hau/tkol': [['po lam/tkol', 4.2], ['tseung kwan o/tkol', 4.2]], 'lohas park/tkol': [['tseung kwan o/tkol', 4.2]], 'tseung kwan o/tkol': [['hang hau/tkol', 4.2], ['tiu keng leng/tkol', 4.2], ['lohas park/tkol', 4.2]], 'tiu keng leng/tkol': [['tseung kwan o/tkol', 4.2], ['yau tong/tkol', 4.2], ['tiu keng leng/ktl', 0]], 'yau tong/tkol': [['tiu keng leng/tkol', 4.2], ['quarry bay/tkol', 4.2], ['yau tong/ktl', 0]], 'quarry bay/tkol': [['yau tong/tkol', 4.2], ['north point/tkol', 4.2], ['quarry bay/il', 0]], 'north point/tkol': [['quarry bay/tkol', 4.2], ['north point/il', 0]]}\n"
     ]
    }
   ],
   "source": [
    "weekdays_morningPeak = '../datasets/weakdays_morningPeak.json'\n",
    "weekdays_eveningPeak = '../datasets/weekdays_eveningPeak.json'\n",
    "weekdays_nonPeak = '../datasets/weekdays_nonPeak.json'\n",
    "\n",
    "def load_graph(file_name):\n",
    "    with open(file_name) as f:\n",
    "        data = json.load(f)\n",
    "        return data\n",
    "\n",
    "graph = load_graph(weekdays_morningPeak)\n",
    "\n",
    "print(graph)"
   ]
  },
  {
   "cell_type": "code",
   "execution_count": 7,
   "metadata": {},
   "outputs": [
    {
     "name": "stdout",
     "output_type": "stream",
     "text": [
      "{'admiralty/il': [['central/il', 1.9],\n",
      "                  ['wan chai/il', 1.9],\n",
      "                  ['admiralty/twl', 0]],\n",
      " 'admiralty/twl': [['tsim sha tsui/twl', 2.0],\n",
      "                   ['central/twl', 2.0],\n",
      "                   ['admiralty/il', 0]],\n",
      " 'causeway bay/il': [['wan chai/il', 1.9], ['tin hau/il', 1.9]],\n",
      " 'central/il': [['sheung wan/il', 1.9],\n",
      "                ['admiralty/il', 1.9],\n",
      "                ['central/twl', 0]],\n",
      " 'central/twl': [['admiralty/twl', 2.0], ['central/il', 0]],\n",
      " 'chai wan/il': [['heng fa chuen/il', 1.9]],\n",
      " 'cheung sha wan/twl': [['lai chi kok/twl', 2.0], ['sham shui po/twl', 2.0]],\n",
      " 'choi hung/ktl': [['diamond hill/ktl', 2.0], ['kowloon bay/ktl', 2.0]],\n",
      " 'diamond hill/ktl': [['wong tai sin/ktl', 2.0], ['choi hung/ktl', 2.0]],\n",
      " 'fortress hill/il': [['tin hau/il', 1.9], ['north point/il', 1.9]],\n",
      " 'hang hau/tkol': [['po lam/tkol', 4.2], ['tseung kwan o/tkol', 4.2]],\n",
      " 'heng fa chuen/il': [['shau kei wan/il', 1.9], ['chai wan/il', 1.9]],\n",
      " 'hku/il': [['kennedy town/il', 1.9], ['sai ying pun/il', 1.9]],\n",
      " 'ho man tin/ktl': [['whampoa/ktl', 4.2], ['yau ma tei/ktl', 2.0]],\n",
      " 'hong kong/tcl': [['kowloon/tcl', 3.3], ['central/il', 0]],\n",
      " 'jordan/twl': [['yau ma tei/twl', 2.0], ['tsim sha tsui/twl', 2.0]],\n",
      " 'kennedy town/il': [['hku/il', 1.9]],\n",
      " 'kowloon bay/ktl': [['choi hung/ktl', 2.0], ['ngau tau kok/ktl', 2.0]],\n",
      " 'kowloon tong/ktl': [['shek kip mei/ktl', 2.0], ['lok fu/ktl', 2.0]],\n",
      " 'kowloon/tcl': [['olympic/tcl', 3.3], ['hong kong/tcl', 3.3]],\n",
      " 'kwai fong/twl': [['kwai hing/twl', 2.0], ['lai king/twl', 2.0]],\n",
      " 'kwai hing/twl': [['tai wo hau/twl', 2.0], ['kwai fong/twl', 2.0]],\n",
      " 'kwun tong/ktl': [['ngau tau kok/ktl', 2.0], ['lam tin/ktl', 2.0]],\n",
      " 'lai chi kok/twl': [['mei foo/twl', 2.0], ['cheung sha wan/twl', 2.0]],\n",
      " 'lai king/tcl': [['tsing yi/tcl', 3.3],\n",
      "                  ['nam cheong/tcl', 3.3],\n",
      "                  ['lai king/twl', 0]],\n",
      " 'lai king/twl': [['kwai fong/twl', 2.0],\n",
      "                  ['mei foo/twl', 2.0],\n",
      "                  ['lai king/tcl', 0]],\n",
      " 'lam tin/ktl': [['kwun tong/ktl', 2.0], ['yau tong/ktl', 2.0]],\n",
      " 'lohas park/tkol': [['tseung kwan o/tkol', 4.2]],\n",
      " 'lok fu/ktl': [['kowloon tong/ktl', 2.0], ['wong tai sin/ktl', 2.0]],\n",
      " 'mei foo/twl': [['lai king/twl', 2.0], ['lai chi kok/twl', 2.0]],\n",
      " 'mong kok/ktl': [['yau ma tei/ktl', 2.0],\n",
      "                  ['prince edward/ktl', 2.0],\n",
      "                  ['mong kok/twl', 0]],\n",
      " 'mong kok/twl': [['prince edward/twl', 2.0],\n",
      "                  ['yau ma tei/twl', 2.0],\n",
      "                  ['mong kok/ktl', 0]],\n",
      " 'nam cheong/tcl': [['lai king/tcl', 3.3], ['olympic/tcl', 3.3]],\n",
      " 'ngau tau kok/ktl': [['kowloon bay/ktl', 2.0], ['kwun tong/ktl', 2.0]],\n",
      " 'north point/il': [['fortress hill/il', 1.9],\n",
      "                    ['quarry bay/il', 1.9],\n",
      "                    ['north point/tkol', 0]],\n",
      " 'north point/tkol': [['quarry bay/tkol', 4.2], ['north point/il', 0]],\n",
      " 'olympic/tcl': [['nam cheong/tcl', 3.3], ['kowloon/tcl', 3.3]],\n",
      " 'po lam/tkol': [['hang hau/tkol', 4.2]],\n",
      " 'prince edward/ktl': [['mong kok/ktl', 2.0],\n",
      "                       ['shek kip mei/ktl', 2.0],\n",
      "                       ['prince edward/twl', 0]],\n",
      " 'prince edward/twl': [['sham shui po/twl', 2.0],\n",
      "                       ['mong kok/twl', 2.0],\n",
      "                       ['prince edward/ktl', 0]],\n",
      " 'quarry bay/il': [['north point/il', 1.9],\n",
      "                   ['tai koo/il', 1.9],\n",
      "                   ['quarry bay/tkol', 0]],\n",
      " 'quarry bay/tkol': [['yau tong/tkol', 4.2],\n",
      "                     ['north point/tkol', 4.2],\n",
      "                     ['quarry bay/il', 0]],\n",
      " 'sai wan ho/il': [['tai koo/il', 1.9], ['shau kei wan/il', 1.9]],\n",
      " 'sai ying pun/il': [['hku/il', 1.9], ['sheung wan/il', 1.9]],\n",
      " 'sham shui po/twl': [['cheung sha wan/twl', 2.0], ['prince edward/twl', 2.0]],\n",
      " 'shau kei wan/il': [['sai wan ho/il', 1.9], ['heng fa chuen/il', 1.9]],\n",
      " 'shek kip mei/ktl': [['prince edward/ktl', 2.0], ['kowloon tong/ktl', 2.0]],\n",
      " 'sheung wan/il': [['sai ying pun/il', 1.9], ['central/il', 1.9]],\n",
      " 'sunny bay/tcl': [['tung chung/tcl', 3.3], ['tsing yi/tcl', 3.3]],\n",
      " 'tai koo/il': [['quarry bay/il', 1.9], ['sai wan ho/il', 1.9]],\n",
      " 'tai wo hau/twl': [['tsuen wan/twl', 2.0], ['kwai hing/twl', 2.0]],\n",
      " 'tin hau/il': [['causeway bay/il', 1.9], ['fortress hill/il', 1.9]],\n",
      " 'tiu keng leng/ktl': [['yau tong/ktl', 2.0], ['tiu keng leng/tkol', 0]],\n",
      " 'tiu keng leng/tkol': [['tseung kwan o/tkol', 4.2],\n",
      "                        ['yau tong/tkol', 4.2],\n",
      "                        ['tiu keng leng/ktl', 0]],\n",
      " 'tseung kwan o/tkol': [['hang hau/tkol', 4.2],\n",
      "                        ['tiu keng leng/tkol', 4.2],\n",
      "                        ['lohas park/tkol', 4.2]],\n",
      " 'tsim sha tsui/twl': [['jordan/twl', 2.0], ['admiralty/twl', 2.0]],\n",
      " 'tsing yi/tcl': [['sunny bay/tcl', 3.3], ['lai king/tcl', 3.3]],\n",
      " 'tsuen wan/twl': [['tai wo hau/twl', 2.0]],\n",
      " 'tung chung/tcl': [['sunny bay/tcl', 3.3]],\n",
      " 'wan chai/il': [['admiralty/il', 1.9], ['causeway bay/il', 1.9]],\n",
      " 'whampoa/ktl': [['ho man tin/ktl', 4.2]],\n",
      " 'wong tai sin/ktl': [['lok fu/ktl', 2.0], ['diamond hill/ktl', 2.0]],\n",
      " 'yau ma tei/ktl': [['ho man tin/ktl', 2.0],\n",
      "                    ['mong kok/ktl', 2.0],\n",
      "                    ['yau ma tei/twl', 0]],\n",
      " 'yau ma tei/twl': [['mong kok/twl', 2.0],\n",
      "                    ['jordan/twl', 2.0],\n",
      "                    ['yau ma tei/ktl', 0]],\n",
      " 'yau tong/ktl': [['lam tin/ktl', 2.0],\n",
      "                  ['tiu keng leng/ktl', 2.0],\n",
      "                  ['yau tong/tkol', 0]],\n",
      " 'yau tong/tkol': [['tiu keng leng/tkol', 4.2],\n",
      "                   ['quarry bay/tkol', 4.2],\n",
      "                   ['yau tong/ktl', 0]]}\n"
     ]
    }
   ],
   "source": [
    "def graphSelector(period):\n",
    "    if period == 0:\n",
    "        graph = load_graph(weekdays_morningPeak)\n",
    "    elif period == 1:\n",
    "        graph = load_graph(weekdays_morningPeak)\n",
    "    elif period == 2:\n",
    "        graph = load_graph(weekdays_morningPeak)\n",
    "    else:\n",
    "        print('[ERROR] : Invalid Value')\n",
    "\n",
    "period = int(input('Please choose a time period: ( 0 - Morning hrs | 1 - Evening hrs | 2 - Non-peak hrs )'))\n",
    "graphSelector(period)\n",
    "\n",
    "pprint(graph)\n",
    "\n",
    "# start = str(input('Enter Start Station: '))\n",
    "# gaol = str(input('Enter Goal Station: '))"
   ]
  },
  {
   "cell_type": "code",
   "execution_count": 4,
   "metadata": {},
   "outputs": [
    {
     "data": {
      "text/plain": [
       "'twl'"
      ]
     },
     "execution_count": 4,
     "metadata": {},
     "output_type": "execute_result"
    }
   ],
   "source": [
    "def getLine(graph, station):\n",
    "    for node in graph:\n",
    "        if station == node.split('/', 1)[0]:\n",
    "            return node.split('/', 1)[1]\n",
    "\n",
    "getLine(graph, 'lai king')"
   ]
  },
  {
   "cell_type": "code",
   "execution_count": 5,
   "metadata": {},
   "outputs": [
    {
     "data": {
      "text/plain": [
       "'lai king/twl'"
      ]
     },
     "execution_count": 5,
     "metadata": {},
     "output_type": "execute_result"
    }
   ],
   "source": [
    "def getNodeByStation(station):\n",
    "    for node in graph:\n",
    "        if station == node.split('/')[0]:\n",
    "            return node\n",
    "\n",
    "getNodeByStation('lai king')"
   ]
  },
  {
   "cell_type": "code",
   "execution_count": 6,
   "metadata": {},
   "outputs": [
    {
     "name": "stdout",
     "output_type": "stream",
     "text": [
      "['kwai fong/twl', 'lai king/twl', 'mei foo/twl', 'lai chi kok/twl', 'cheung sha wan/twl', 'sham shui po/twl', 'prince edward/twl', 'mong kok/twl', 'yau ma tei/twl', 'jordan/twl', 'tsim sha tsui/twl']\n",
      "['kwai fong/twl', 'lai king/twl', 'lai king/tcl', 'nam cheong/tcl', 'olympic/tcl', 'kowloon/tcl', 'hong kong/tcl', 'central/il', 'admiralty/il', 'admiralty/twl', 'tsim sha tsui/twl']\n",
      "['kwai fong/twl', 'lai king/twl', 'lai king/tcl', 'nam cheong/tcl', 'olympic/tcl', 'kowloon/tcl', 'hong kong/tcl', 'central/il', 'central/twl', 'admiralty/twl', 'tsim sha tsui/twl']\n",
      "['kwai fong/twl', 'lai king/twl', 'mei foo/twl', 'lai chi kok/twl', 'cheung sha wan/twl', 'sham shui po/twl', 'prince edward/twl', 'mong kok/twl', 'mong kok/ktl', 'yau ma tei/ktl', 'yau ma tei/twl', 'jordan/twl', 'tsim sha tsui/twl']\n",
      "['kwai fong/twl', 'lai king/twl', 'mei foo/twl', 'lai chi kok/twl', 'cheung sha wan/twl', 'sham shui po/twl', 'prince edward/twl', 'prince edward/ktl', 'mong kok/ktl', 'yau ma tei/ktl', 'yau ma tei/twl', 'jordan/twl', 'tsim sha tsui/twl']\n",
      "['kwai fong/twl', 'lai king/twl', 'mei foo/twl', 'lai chi kok/twl', 'cheung sha wan/twl', 'sham shui po/twl', 'prince edward/twl', 'prince edward/ktl', 'mong kok/ktl', 'mong kok/twl', 'yau ma tei/twl', 'jordan/twl', 'tsim sha tsui/twl']\n",
      "['kwai fong/twl', 'lai king/twl', 'mei foo/twl', 'lai chi kok/twl', 'cheung sha wan/twl', 'sham shui po/twl', 'prince edward/twl', 'prince edward/ktl', 'shek kip mei/ktl', 'kowloon tong/ktl', 'lok fu/ktl', 'wong tai sin/ktl', 'diamond hill/ktl', 'choi hung/ktl', 'kowloon bay/ktl', 'ngau tau kok/ktl', 'kwun tong/ktl', 'lam tin/ktl', 'yau tong/ktl', 'yau tong/tkol', 'quarry bay/tkol', 'north point/tkol', 'north point/il', 'fortress hill/il', 'tin hau/il', 'causeway bay/il', 'wan chai/il', 'admiralty/il', 'admiralty/twl', 'tsim sha tsui/twl']\n",
      "['kwai fong/twl', 'lai king/twl', 'mei foo/twl', 'lai chi kok/twl', 'cheung sha wan/twl', 'sham shui po/twl', 'prince edward/twl', 'prince edward/ktl', 'shek kip mei/ktl', 'kowloon tong/ktl', 'lok fu/ktl', 'wong tai sin/ktl', 'diamond hill/ktl', 'choi hung/ktl', 'kowloon bay/ktl', 'ngau tau kok/ktl', 'kwun tong/ktl', 'lam tin/ktl', 'yau tong/ktl', 'yau tong/tkol', 'quarry bay/tkol', 'quarry bay/il', 'north point/il', 'fortress hill/il', 'tin hau/il', 'causeway bay/il', 'wan chai/il', 'admiralty/il', 'admiralty/twl', 'tsim sha tsui/twl']\n",
      "['kwai fong/twl', 'lai king/twl', 'mei foo/twl', 'lai chi kok/twl', 'cheung sha wan/twl', 'sham shui po/twl', 'prince edward/twl', 'mong kok/twl', 'mong kok/ktl', 'prince edward/ktl', 'shek kip mei/ktl', 'kowloon tong/ktl', 'lok fu/ktl', 'wong tai sin/ktl', 'diamond hill/ktl', 'choi hung/ktl', 'kowloon bay/ktl', 'ngau tau kok/ktl', 'kwun tong/ktl', 'lam tin/ktl', 'yau tong/ktl', 'yau tong/tkol', 'quarry bay/tkol', 'north point/tkol', 'north point/il', 'fortress hill/il', 'tin hau/il', 'causeway bay/il', 'wan chai/il', 'admiralty/il', 'admiralty/twl', 'tsim sha tsui/twl']\n",
      "['kwai fong/twl', 'lai king/twl', 'mei foo/twl', 'lai chi kok/twl', 'cheung sha wan/twl', 'sham shui po/twl', 'prince edward/twl', 'mong kok/twl', 'mong kok/ktl', 'prince edward/ktl', 'shek kip mei/ktl', 'kowloon tong/ktl', 'lok fu/ktl', 'wong tai sin/ktl', 'diamond hill/ktl', 'choi hung/ktl', 'kowloon bay/ktl', 'ngau tau kok/ktl', 'kwun tong/ktl', 'lam tin/ktl', 'yau tong/ktl', 'yau tong/tkol', 'quarry bay/tkol', 'quarry bay/il', 'north point/il', 'fortress hill/il', 'tin hau/il', 'causeway bay/il', 'wan chai/il', 'admiralty/il', 'admiralty/twl', 'tsim sha tsui/twl']\n",
      "['kwai fong/twl', 'lai king/twl', 'mei foo/twl', 'lai chi kok/twl', 'cheung sha wan/twl', 'sham shui po/twl', 'prince edward/twl', 'prince edward/ktl', 'shek kip mei/ktl', 'kowloon tong/ktl', 'lok fu/ktl', 'wong tai sin/ktl', 'diamond hill/ktl', 'choi hung/ktl', 'kowloon bay/ktl', 'ngau tau kok/ktl', 'kwun tong/ktl', 'lam tin/ktl', 'yau tong/ktl', 'tiu keng leng/ktl', 'tiu keng leng/tkol', 'yau tong/tkol', 'quarry bay/tkol', 'north point/tkol', 'north point/il', 'fortress hill/il', 'tin hau/il', 'causeway bay/il', 'wan chai/il', 'admiralty/il', 'admiralty/twl', 'tsim sha tsui/twl']\n",
      "['kwai fong/twl', 'lai king/twl', 'mei foo/twl', 'lai chi kok/twl', 'cheung sha wan/twl', 'sham shui po/twl', 'prince edward/twl', 'prince edward/ktl', 'shek kip mei/ktl', 'kowloon tong/ktl', 'lok fu/ktl', 'wong tai sin/ktl', 'diamond hill/ktl', 'choi hung/ktl', 'kowloon bay/ktl', 'ngau tau kok/ktl', 'kwun tong/ktl', 'lam tin/ktl', 'yau tong/ktl', 'tiu keng leng/ktl', 'tiu keng leng/tkol', 'yau tong/tkol', 'quarry bay/tkol', 'quarry bay/il', 'north point/il', 'fortress hill/il', 'tin hau/il', 'causeway bay/il', 'wan chai/il', 'admiralty/il', 'admiralty/twl', 'tsim sha tsui/twl']\n",
      "['kwai fong/twl', 'lai king/twl', 'mei foo/twl', 'lai chi kok/twl', 'cheung sha wan/twl', 'sham shui po/twl', 'prince edward/twl', 'prince edward/ktl', 'shek kip mei/ktl', 'kowloon tong/ktl', 'lok fu/ktl', 'wong tai sin/ktl', 'diamond hill/ktl', 'choi hung/ktl', 'kowloon bay/ktl', 'ngau tau kok/ktl', 'kwun tong/ktl', 'lam tin/ktl', 'yau tong/ktl', 'yau tong/tkol', 'quarry bay/tkol', 'north point/tkol', 'north point/il', 'fortress hill/il', 'tin hau/il', 'causeway bay/il', 'wan chai/il', 'admiralty/il', 'central/il', 'central/twl', 'admiralty/twl', 'tsim sha tsui/twl']\n",
      "['kwai fong/twl', 'lai king/twl', 'mei foo/twl', 'lai chi kok/twl', 'cheung sha wan/twl', 'sham shui po/twl', 'prince edward/twl', 'prince edward/ktl', 'shek kip mei/ktl', 'kowloon tong/ktl', 'lok fu/ktl', 'wong tai sin/ktl', 'diamond hill/ktl', 'choi hung/ktl', 'kowloon bay/ktl', 'ngau tau kok/ktl', 'kwun tong/ktl', 'lam tin/ktl', 'yau tong/ktl', 'yau tong/tkol', 'quarry bay/tkol', 'quarry bay/il', 'north point/il', 'fortress hill/il', 'tin hau/il', 'causeway bay/il', 'wan chai/il', 'admiralty/il', 'central/il', 'central/twl', 'admiralty/twl', 'tsim sha tsui/twl']\n",
      "['kwai fong/twl', 'lai king/twl', 'mei foo/twl', 'lai chi kok/twl', 'cheung sha wan/twl', 'sham shui po/twl', 'prince edward/twl', 'mong kok/twl', 'yau ma tei/twl', 'yau ma tei/ktl', 'mong kok/ktl', 'prince edward/ktl', 'shek kip mei/ktl', 'kowloon tong/ktl', 'lok fu/ktl', 'wong tai sin/ktl', 'diamond hill/ktl', 'choi hung/ktl', 'kowloon bay/ktl', 'ngau tau kok/ktl', 'kwun tong/ktl', 'lam tin/ktl', 'yau tong/ktl', 'yau tong/tkol', 'quarry bay/tkol', 'north point/tkol', 'north point/il', 'fortress hill/il', 'tin hau/il', 'causeway bay/il', 'wan chai/il', 'admiralty/il', 'admiralty/twl', 'tsim sha tsui/twl']\n",
      "['kwai fong/twl', 'lai king/twl', 'mei foo/twl', 'lai chi kok/twl', 'cheung sha wan/twl', 'sham shui po/twl', 'prince edward/twl', 'mong kok/twl', 'yau ma tei/twl', 'yau ma tei/ktl', 'mong kok/ktl', 'prince edward/ktl', 'shek kip mei/ktl', 'kowloon tong/ktl', 'lok fu/ktl', 'wong tai sin/ktl', 'diamond hill/ktl', 'choi hung/ktl', 'kowloon bay/ktl', 'ngau tau kok/ktl', 'kwun tong/ktl', 'lam tin/ktl', 'yau tong/ktl', 'yau tong/tkol', 'quarry bay/tkol', 'quarry bay/il', 'north point/il', 'fortress hill/il', 'tin hau/il', 'causeway bay/il', 'wan chai/il', 'admiralty/il', 'admiralty/twl', 'tsim sha tsui/twl']\n",
      "['kwai fong/twl', 'lai king/twl', 'mei foo/twl', 'lai chi kok/twl', 'cheung sha wan/twl', 'sham shui po/twl', 'prince edward/twl', 'mong kok/twl', 'mong kok/ktl', 'prince edward/ktl', 'shek kip mei/ktl', 'kowloon tong/ktl', 'lok fu/ktl', 'wong tai sin/ktl', 'diamond hill/ktl', 'choi hung/ktl', 'kowloon bay/ktl', 'ngau tau kok/ktl', 'kwun tong/ktl', 'lam tin/ktl', 'yau tong/ktl', 'tiu keng leng/ktl', 'tiu keng leng/tkol', 'yau tong/tkol', 'quarry bay/tkol', 'north point/tkol', 'north point/il', 'fortress hill/il', 'tin hau/il', 'causeway bay/il', 'wan chai/il', 'admiralty/il', 'admiralty/twl', 'tsim sha tsui/twl']\n",
      "['kwai fong/twl', 'lai king/twl', 'mei foo/twl', 'lai chi kok/twl', 'cheung sha wan/twl', 'sham shui po/twl', 'prince edward/twl', 'mong kok/twl', 'mong kok/ktl', 'prince edward/ktl', 'shek kip mei/ktl', 'kowloon tong/ktl', 'lok fu/ktl', 'wong tai sin/ktl', 'diamond hill/ktl', 'choi hung/ktl', 'kowloon bay/ktl', 'ngau tau kok/ktl', 'kwun tong/ktl', 'lam tin/ktl', 'yau tong/ktl', 'tiu keng leng/ktl', 'tiu keng leng/tkol', 'yau tong/tkol', 'quarry bay/tkol', 'quarry bay/il', 'north point/il', 'fortress hill/il', 'tin hau/il', 'causeway bay/il', 'wan chai/il', 'admiralty/il', 'admiralty/twl', 'tsim sha tsui/twl']\n",
      "['kwai fong/twl', 'lai king/twl', 'mei foo/twl', 'lai chi kok/twl', 'cheung sha wan/twl', 'sham shui po/twl', 'prince edward/twl', 'mong kok/twl', 'mong kok/ktl', 'prince edward/ktl', 'shek kip mei/ktl', 'kowloon tong/ktl', 'lok fu/ktl', 'wong tai sin/ktl', 'diamond hill/ktl', 'choi hung/ktl', 'kowloon bay/ktl', 'ngau tau kok/ktl', 'kwun tong/ktl', 'lam tin/ktl', 'yau tong/ktl', 'yau tong/tkol', 'quarry bay/tkol', 'north point/tkol', 'north point/il', 'fortress hill/il', 'tin hau/il', 'causeway bay/il', 'wan chai/il', 'admiralty/il', 'central/il', 'central/twl', 'admiralty/twl', 'tsim sha tsui/twl']\n",
      "['kwai fong/twl', 'lai king/twl', 'mei foo/twl', 'lai chi kok/twl', 'cheung sha wan/twl', 'sham shui po/twl', 'prince edward/twl', 'mong kok/twl', 'mong kok/ktl', 'prince edward/ktl', 'shek kip mei/ktl', 'kowloon tong/ktl', 'lok fu/ktl', 'wong tai sin/ktl', 'diamond hill/ktl', 'choi hung/ktl', 'kowloon bay/ktl', 'ngau tau kok/ktl', 'kwun tong/ktl', 'lam tin/ktl', 'yau tong/ktl', 'yau tong/tkol', 'quarry bay/tkol', 'quarry bay/il', 'north point/il', 'fortress hill/il', 'tin hau/il', 'causeway bay/il', 'wan chai/il', 'admiralty/il', 'central/il', 'central/twl', 'admiralty/twl', 'tsim sha tsui/twl']\n",
      "['kwai fong/twl', 'lai king/twl', 'mei foo/twl', 'lai chi kok/twl', 'cheung sha wan/twl', 'sham shui po/twl', 'prince edward/twl', 'prince edward/ktl', 'shek kip mei/ktl', 'kowloon tong/ktl', 'lok fu/ktl', 'wong tai sin/ktl', 'diamond hill/ktl', 'choi hung/ktl', 'kowloon bay/ktl', 'ngau tau kok/ktl', 'kwun tong/ktl', 'lam tin/ktl', 'yau tong/ktl', 'tiu keng leng/ktl', 'tiu keng leng/tkol', 'yau tong/tkol', 'quarry bay/tkol', 'north point/tkol', 'north point/il', 'fortress hill/il', 'tin hau/il', 'causeway bay/il', 'wan chai/il', 'admiralty/il', 'central/il', 'central/twl', 'admiralty/twl', 'tsim sha tsui/twl']\n",
      "['kwai fong/twl', 'lai king/twl', 'mei foo/twl', 'lai chi kok/twl', 'cheung sha wan/twl', 'sham shui po/twl', 'prince edward/twl', 'prince edward/ktl', 'shek kip mei/ktl', 'kowloon tong/ktl', 'lok fu/ktl', 'wong tai sin/ktl', 'diamond hill/ktl', 'choi hung/ktl', 'kowloon bay/ktl', 'ngau tau kok/ktl', 'kwun tong/ktl', 'lam tin/ktl', 'yau tong/ktl', 'tiu keng leng/ktl', 'tiu keng leng/tkol', 'yau tong/tkol', 'quarry bay/tkol', 'quarry bay/il', 'north point/il', 'fortress hill/il', 'tin hau/il', 'causeway bay/il', 'wan chai/il', 'admiralty/il', 'central/il', 'central/twl', 'admiralty/twl', 'tsim sha tsui/twl']\n",
      "['kwai fong/twl', 'lai king/twl', 'lai king/tcl', 'nam cheong/tcl', 'olympic/tcl', 'kowloon/tcl', 'hong kong/tcl', 'central/il', 'admiralty/il', 'wan chai/il', 'causeway bay/il', 'tin hau/il', 'fortress hill/il', 'north point/il', 'quarry bay/il', 'quarry bay/tkol', 'yau tong/tkol', 'yau tong/ktl', 'lam tin/ktl', 'kwun tong/ktl', 'ngau tau kok/ktl', 'kowloon bay/ktl', 'choi hung/ktl', 'diamond hill/ktl', 'wong tai sin/ktl', 'lok fu/ktl', 'kowloon tong/ktl', 'shek kip mei/ktl', 'prince edward/ktl', 'mong kok/ktl', 'yau ma tei/ktl', 'yau ma tei/twl', 'jordan/twl', 'tsim sha tsui/twl']\n",
      "['kwai fong/twl', 'lai king/twl', 'lai king/tcl', 'nam cheong/tcl', 'olympic/tcl', 'kowloon/tcl', 'hong kong/tcl', 'central/il', 'admiralty/il', 'wan chai/il', 'causeway bay/il', 'tin hau/il', 'fortress hill/il', 'north point/il', 'quarry bay/il', 'quarry bay/tkol', 'yau tong/tkol', 'yau tong/ktl', 'lam tin/ktl', 'kwun tong/ktl', 'ngau tau kok/ktl', 'kowloon bay/ktl', 'choi hung/ktl', 'diamond hill/ktl', 'wong tai sin/ktl', 'lok fu/ktl', 'kowloon tong/ktl', 'shek kip mei/ktl', 'prince edward/ktl', 'mong kok/ktl', 'mong kok/twl', 'yau ma tei/twl', 'jordan/twl', 'tsim sha tsui/twl']\n",
      "['kwai fong/twl', 'lai king/twl', 'lai king/tcl', 'nam cheong/tcl', 'olympic/tcl', 'kowloon/tcl', 'hong kong/tcl', 'central/il', 'admiralty/il', 'wan chai/il', 'causeway bay/il', 'tin hau/il', 'fortress hill/il', 'north point/il', 'quarry bay/il', 'quarry bay/tkol', 'yau tong/tkol', 'yau tong/ktl', 'lam tin/ktl', 'kwun tong/ktl', 'ngau tau kok/ktl', 'kowloon bay/ktl', 'choi hung/ktl', 'diamond hill/ktl', 'wong tai sin/ktl', 'lok fu/ktl', 'kowloon tong/ktl', 'shek kip mei/ktl', 'prince edward/ktl', 'prince edward/twl', 'mong kok/twl', 'yau ma tei/twl', 'jordan/twl', 'tsim sha tsui/twl']\n",
      "['kwai fong/twl', 'lai king/twl', 'lai king/tcl', 'nam cheong/tcl', 'olympic/tcl', 'kowloon/tcl', 'hong kong/tcl', 'central/il', 'admiralty/il', 'wan chai/il', 'causeway bay/il', 'tin hau/il', 'fortress hill/il', 'north point/il', 'north point/tkol', 'quarry bay/tkol', 'yau tong/tkol', 'yau tong/ktl', 'lam tin/ktl', 'kwun tong/ktl', 'ngau tau kok/ktl', 'kowloon bay/ktl', 'choi hung/ktl', 'diamond hill/ktl', 'wong tai sin/ktl', 'lok fu/ktl', 'kowloon tong/ktl', 'shek kip mei/ktl', 'prince edward/ktl', 'mong kok/ktl', 'yau ma tei/ktl', 'yau ma tei/twl', 'jordan/twl', 'tsim sha tsui/twl']\n",
      "['kwai fong/twl', 'lai king/twl', 'lai king/tcl', 'nam cheong/tcl', 'olympic/tcl', 'kowloon/tcl', 'hong kong/tcl', 'central/il', 'admiralty/il', 'wan chai/il', 'causeway bay/il', 'tin hau/il', 'fortress hill/il', 'north point/il', 'north point/tkol', 'quarry bay/tkol', 'yau tong/tkol', 'yau tong/ktl', 'lam tin/ktl', 'kwun tong/ktl', 'ngau tau kok/ktl', 'kowloon bay/ktl', 'choi hung/ktl', 'diamond hill/ktl', 'wong tai sin/ktl', 'lok fu/ktl', 'kowloon tong/ktl', 'shek kip mei/ktl', 'prince edward/ktl', 'mong kok/ktl', 'mong kok/twl', 'yau ma tei/twl', 'jordan/twl', 'tsim sha tsui/twl']\n",
      "['kwai fong/twl', 'lai king/twl', 'lai king/tcl', 'nam cheong/tcl', 'olympic/tcl', 'kowloon/tcl', 'hong kong/tcl', 'central/il', 'admiralty/il', 'wan chai/il', 'causeway bay/il', 'tin hau/il', 'fortress hill/il', 'north point/il', 'north point/tkol', 'quarry bay/tkol', 'yau tong/tkol', 'yau tong/ktl', 'lam tin/ktl', 'kwun tong/ktl', 'ngau tau kok/ktl', 'kowloon bay/ktl', 'choi hung/ktl', 'diamond hill/ktl', 'wong tai sin/ktl', 'lok fu/ktl', 'kowloon tong/ktl', 'shek kip mei/ktl', 'prince edward/ktl', 'prince edward/twl', 'mong kok/twl', 'yau ma tei/twl', 'jordan/twl', 'tsim sha tsui/twl']\n",
      "['kwai fong/twl', 'lai king/twl', 'mei foo/twl', 'lai chi kok/twl', 'cheung sha wan/twl', 'sham shui po/twl', 'prince edward/twl', 'mong kok/twl', 'yau ma tei/twl', 'yau ma tei/ktl', 'mong kok/ktl', 'prince edward/ktl', 'shek kip mei/ktl', 'kowloon tong/ktl', 'lok fu/ktl', 'wong tai sin/ktl', 'diamond hill/ktl', 'choi hung/ktl', 'kowloon bay/ktl', 'ngau tau kok/ktl', 'kwun tong/ktl', 'lam tin/ktl', 'yau tong/ktl', 'tiu keng leng/ktl', 'tiu keng leng/tkol', 'yau tong/tkol', 'quarry bay/tkol', 'north point/tkol', 'north point/il', 'fortress hill/il', 'tin hau/il', 'causeway bay/il', 'wan chai/il', 'admiralty/il', 'admiralty/twl', 'tsim sha tsui/twl']\n",
      "['kwai fong/twl', 'lai king/twl', 'mei foo/twl', 'lai chi kok/twl', 'cheung sha wan/twl', 'sham shui po/twl', 'prince edward/twl', 'mong kok/twl', 'yau ma tei/twl', 'yau ma tei/ktl', 'mong kok/ktl', 'prince edward/ktl', 'shek kip mei/ktl', 'kowloon tong/ktl', 'lok fu/ktl', 'wong tai sin/ktl', 'diamond hill/ktl', 'choi hung/ktl', 'kowloon bay/ktl', 'ngau tau kok/ktl', 'kwun tong/ktl', 'lam tin/ktl', 'yau tong/ktl', 'tiu keng leng/ktl', 'tiu keng leng/tkol', 'yau tong/tkol', 'quarry bay/tkol', 'quarry bay/il', 'north point/il', 'fortress hill/il', 'tin hau/il', 'causeway bay/il', 'wan chai/il', 'admiralty/il', 'admiralty/twl', 'tsim sha tsui/twl']\n",
      "['kwai fong/twl', 'lai king/twl', 'mei foo/twl', 'lai chi kok/twl', 'cheung sha wan/twl', 'sham shui po/twl', 'prince edward/twl', 'mong kok/twl', 'yau ma tei/twl', 'yau ma tei/ktl', 'mong kok/ktl', 'prince edward/ktl', 'shek kip mei/ktl', 'kowloon tong/ktl', 'lok fu/ktl', 'wong tai sin/ktl', 'diamond hill/ktl', 'choi hung/ktl', 'kowloon bay/ktl', 'ngau tau kok/ktl', 'kwun tong/ktl', 'lam tin/ktl', 'yau tong/ktl', 'yau tong/tkol', 'quarry bay/tkol', 'north point/tkol', 'north point/il', 'fortress hill/il', 'tin hau/il', 'causeway bay/il', 'wan chai/il', 'admiralty/il', 'central/il', 'central/twl', 'admiralty/twl', 'tsim sha tsui/twl']\n",
      "['kwai fong/twl', 'lai king/twl', 'mei foo/twl', 'lai chi kok/twl', 'cheung sha wan/twl', 'sham shui po/twl', 'prince edward/twl', 'mong kok/twl', 'yau ma tei/twl', 'yau ma tei/ktl', 'mong kok/ktl', 'prince edward/ktl', 'shek kip mei/ktl', 'kowloon tong/ktl', 'lok fu/ktl', 'wong tai sin/ktl', 'diamond hill/ktl', 'choi hung/ktl', 'kowloon bay/ktl', 'ngau tau kok/ktl', 'kwun tong/ktl', 'lam tin/ktl', 'yau tong/ktl', 'yau tong/tkol', 'quarry bay/tkol', 'quarry bay/il', 'north point/il', 'fortress hill/il', 'tin hau/il', 'causeway bay/il', 'wan chai/il', 'admiralty/il', 'central/il', 'central/twl', 'admiralty/twl', 'tsim sha tsui/twl']\n",
      "['kwai fong/twl', 'lai king/twl', 'mei foo/twl', 'lai chi kok/twl', 'cheung sha wan/twl', 'sham shui po/twl', 'prince edward/twl', 'mong kok/twl', 'mong kok/ktl', 'prince edward/ktl', 'shek kip mei/ktl', 'kowloon tong/ktl', 'lok fu/ktl', 'wong tai sin/ktl', 'diamond hill/ktl', 'choi hung/ktl', 'kowloon bay/ktl', 'ngau tau kok/ktl', 'kwun tong/ktl', 'lam tin/ktl', 'yau tong/ktl', 'tiu keng leng/ktl', 'tiu keng leng/tkol', 'yau tong/tkol', 'quarry bay/tkol', 'north point/tkol', 'north point/il', 'fortress hill/il', 'tin hau/il', 'causeway bay/il', 'wan chai/il', 'admiralty/il', 'central/il', 'central/twl', 'admiralty/twl', 'tsim sha tsui/twl']\n",
      "['kwai fong/twl', 'lai king/twl', 'mei foo/twl', 'lai chi kok/twl', 'cheung sha wan/twl', 'sham shui po/twl', 'prince edward/twl', 'mong kok/twl', 'mong kok/ktl', 'prince edward/ktl', 'shek kip mei/ktl', 'kowloon tong/ktl', 'lok fu/ktl', 'wong tai sin/ktl', 'diamond hill/ktl', 'choi hung/ktl', 'kowloon bay/ktl', 'ngau tau kok/ktl', 'kwun tong/ktl', 'lam tin/ktl', 'yau tong/ktl', 'tiu keng leng/ktl', 'tiu keng leng/tkol', 'yau tong/tkol', 'quarry bay/tkol', 'quarry bay/il', 'north point/il', 'fortress hill/il', 'tin hau/il', 'causeway bay/il', 'wan chai/il', 'admiralty/il', 'central/il', 'central/twl', 'admiralty/twl', 'tsim sha tsui/twl']\n",
      "['kwai fong/twl', 'lai king/twl', 'lai king/tcl', 'nam cheong/tcl', 'olympic/tcl', 'kowloon/tcl', 'hong kong/tcl', 'central/il', 'admiralty/il', 'wan chai/il', 'causeway bay/il', 'tin hau/il', 'fortress hill/il', 'north point/il', 'quarry bay/il', 'quarry bay/tkol', 'yau tong/tkol', 'tiu keng leng/tkol', 'tiu keng leng/ktl', 'yau tong/ktl', 'lam tin/ktl', 'kwun tong/ktl', 'ngau tau kok/ktl', 'kowloon bay/ktl', 'choi hung/ktl', 'diamond hill/ktl', 'wong tai sin/ktl', 'lok fu/ktl', 'kowloon tong/ktl', 'shek kip mei/ktl', 'prince edward/ktl', 'mong kok/ktl', 'yau ma tei/ktl', 'yau ma tei/twl', 'jordan/twl', 'tsim sha tsui/twl']\n",
      "['kwai fong/twl', 'lai king/twl', 'lai king/tcl', 'nam cheong/tcl', 'olympic/tcl', 'kowloon/tcl', 'hong kong/tcl', 'central/il', 'admiralty/il', 'wan chai/il', 'causeway bay/il', 'tin hau/il', 'fortress hill/il', 'north point/il', 'quarry bay/il', 'quarry bay/tkol', 'yau tong/tkol', 'tiu keng leng/tkol', 'tiu keng leng/ktl', 'yau tong/ktl', 'lam tin/ktl', 'kwun tong/ktl', 'ngau tau kok/ktl', 'kowloon bay/ktl', 'choi hung/ktl', 'diamond hill/ktl', 'wong tai sin/ktl', 'lok fu/ktl', 'kowloon tong/ktl', 'shek kip mei/ktl', 'prince edward/ktl', 'mong kok/ktl', 'mong kok/twl', 'yau ma tei/twl', 'jordan/twl', 'tsim sha tsui/twl']\n",
      "['kwai fong/twl', 'lai king/twl', 'lai king/tcl', 'nam cheong/tcl', 'olympic/tcl', 'kowloon/tcl', 'hong kong/tcl', 'central/il', 'admiralty/il', 'wan chai/il', 'causeway bay/il', 'tin hau/il', 'fortress hill/il', 'north point/il', 'quarry bay/il', 'quarry bay/tkol', 'yau tong/tkol', 'tiu keng leng/tkol', 'tiu keng leng/ktl', 'yau tong/ktl', 'lam tin/ktl', 'kwun tong/ktl', 'ngau tau kok/ktl', 'kowloon bay/ktl', 'choi hung/ktl', 'diamond hill/ktl', 'wong tai sin/ktl', 'lok fu/ktl', 'kowloon tong/ktl', 'shek kip mei/ktl', 'prince edward/ktl', 'prince edward/twl', 'mong kok/twl', 'yau ma tei/twl', 'jordan/twl', 'tsim sha tsui/twl']\n",
      "['kwai fong/twl', 'lai king/twl', 'lai king/tcl', 'nam cheong/tcl', 'olympic/tcl', 'kowloon/tcl', 'hong kong/tcl', 'central/il', 'admiralty/il', 'wan chai/il', 'causeway bay/il', 'tin hau/il', 'fortress hill/il', 'north point/il', 'quarry bay/il', 'quarry bay/tkol', 'yau tong/tkol', 'yau tong/ktl', 'lam tin/ktl', 'kwun tong/ktl', 'ngau tau kok/ktl', 'kowloon bay/ktl', 'choi hung/ktl', 'diamond hill/ktl', 'wong tai sin/ktl', 'lok fu/ktl', 'kowloon tong/ktl', 'shek kip mei/ktl', 'prince edward/ktl', 'prince edward/twl', 'mong kok/twl', 'mong kok/ktl', 'yau ma tei/ktl', 'yau ma tei/twl', 'jordan/twl', 'tsim sha tsui/twl']\n",
      "['kwai fong/twl', 'lai king/twl', 'lai king/tcl', 'nam cheong/tcl', 'olympic/tcl', 'kowloon/tcl', 'hong kong/tcl', 'central/il', 'admiralty/il', 'wan chai/il', 'causeway bay/il', 'tin hau/il', 'fortress hill/il', 'north point/il', 'north point/tkol', 'quarry bay/tkol', 'yau tong/tkol', 'tiu keng leng/tkol', 'tiu keng leng/ktl', 'yau tong/ktl', 'lam tin/ktl', 'kwun tong/ktl', 'ngau tau kok/ktl', 'kowloon bay/ktl', 'choi hung/ktl', 'diamond hill/ktl', 'wong tai sin/ktl', 'lok fu/ktl', 'kowloon tong/ktl', 'shek kip mei/ktl', 'prince edward/ktl', 'mong kok/ktl', 'yau ma tei/ktl', 'yau ma tei/twl', 'jordan/twl', 'tsim sha tsui/twl']\n",
      "['kwai fong/twl', 'lai king/twl', 'lai king/tcl', 'nam cheong/tcl', 'olympic/tcl', 'kowloon/tcl', 'hong kong/tcl', 'central/il', 'admiralty/il', 'wan chai/il', 'causeway bay/il', 'tin hau/il', 'fortress hill/il', 'north point/il', 'north point/tkol', 'quarry bay/tkol', 'yau tong/tkol', 'tiu keng leng/tkol', 'tiu keng leng/ktl', 'yau tong/ktl', 'lam tin/ktl', 'kwun tong/ktl', 'ngau tau kok/ktl', 'kowloon bay/ktl', 'choi hung/ktl', 'diamond hill/ktl', 'wong tai sin/ktl', 'lok fu/ktl', 'kowloon tong/ktl', 'shek kip mei/ktl', 'prince edward/ktl', 'mong kok/ktl', 'mong kok/twl', 'yau ma tei/twl', 'jordan/twl', 'tsim sha tsui/twl']\n",
      "['kwai fong/twl', 'lai king/twl', 'lai king/tcl', 'nam cheong/tcl', 'olympic/tcl', 'kowloon/tcl', 'hong kong/tcl', 'central/il', 'admiralty/il', 'wan chai/il', 'causeway bay/il', 'tin hau/il', 'fortress hill/il', 'north point/il', 'north point/tkol', 'quarry bay/tkol', 'yau tong/tkol', 'tiu keng leng/tkol', 'tiu keng leng/ktl', 'yau tong/ktl', 'lam tin/ktl', 'kwun tong/ktl', 'ngau tau kok/ktl', 'kowloon bay/ktl', 'choi hung/ktl', 'diamond hill/ktl', 'wong tai sin/ktl', 'lok fu/ktl', 'kowloon tong/ktl', 'shek kip mei/ktl', 'prince edward/ktl', 'prince edward/twl', 'mong kok/twl', 'yau ma tei/twl', 'jordan/twl', 'tsim sha tsui/twl']\n",
      "['kwai fong/twl', 'lai king/twl', 'lai king/tcl', 'nam cheong/tcl', 'olympic/tcl', 'kowloon/tcl', 'hong kong/tcl', 'central/il', 'admiralty/il', 'wan chai/il', 'causeway bay/il', 'tin hau/il', 'fortress hill/il', 'north point/il', 'north point/tkol', 'quarry bay/tkol', 'yau tong/tkol', 'yau tong/ktl', 'lam tin/ktl', 'kwun tong/ktl', 'ngau tau kok/ktl', 'kowloon bay/ktl', 'choi hung/ktl', 'diamond hill/ktl', 'wong tai sin/ktl', 'lok fu/ktl', 'kowloon tong/ktl', 'shek kip mei/ktl', 'prince edward/ktl', 'prince edward/twl', 'mong kok/twl', 'mong kok/ktl', 'yau ma tei/ktl', 'yau ma tei/twl', 'jordan/twl', 'tsim sha tsui/twl']\n",
      "['kwai fong/twl', 'lai king/twl', 'lai king/tcl', 'nam cheong/tcl', 'olympic/tcl', 'kowloon/tcl', 'hong kong/tcl', 'central/il', 'central/twl', 'admiralty/twl', 'admiralty/il', 'wan chai/il', 'causeway bay/il', 'tin hau/il', 'fortress hill/il', 'north point/il', 'quarry bay/il', 'quarry bay/tkol', 'yau tong/tkol', 'yau tong/ktl', 'lam tin/ktl', 'kwun tong/ktl', 'ngau tau kok/ktl', 'kowloon bay/ktl', 'choi hung/ktl', 'diamond hill/ktl', 'wong tai sin/ktl', 'lok fu/ktl', 'kowloon tong/ktl', 'shek kip mei/ktl', 'prince edward/ktl', 'mong kok/ktl', 'yau ma tei/ktl', 'yau ma tei/twl', 'jordan/twl', 'tsim sha tsui/twl']\n",
      "['kwai fong/twl', 'lai king/twl', 'lai king/tcl', 'nam cheong/tcl', 'olympic/tcl', 'kowloon/tcl', 'hong kong/tcl', 'central/il', 'central/twl', 'admiralty/twl', 'admiralty/il', 'wan chai/il', 'causeway bay/il', 'tin hau/il', 'fortress hill/il', 'north point/il', 'quarry bay/il', 'quarry bay/tkol', 'yau tong/tkol', 'yau tong/ktl', 'lam tin/ktl', 'kwun tong/ktl', 'ngau tau kok/ktl', 'kowloon bay/ktl', 'choi hung/ktl', 'diamond hill/ktl', 'wong tai sin/ktl', 'lok fu/ktl', 'kowloon tong/ktl', 'shek kip mei/ktl', 'prince edward/ktl', 'mong kok/ktl', 'mong kok/twl', 'yau ma tei/twl', 'jordan/twl', 'tsim sha tsui/twl']\n",
      "['kwai fong/twl', 'lai king/twl', 'lai king/tcl', 'nam cheong/tcl', 'olympic/tcl', 'kowloon/tcl', 'hong kong/tcl', 'central/il', 'central/twl', 'admiralty/twl', 'admiralty/il', 'wan chai/il', 'causeway bay/il', 'tin hau/il', 'fortress hill/il', 'north point/il', 'quarry bay/il', 'quarry bay/tkol', 'yau tong/tkol', 'yau tong/ktl', 'lam tin/ktl', 'kwun tong/ktl', 'ngau tau kok/ktl', 'kowloon bay/ktl', 'choi hung/ktl', 'diamond hill/ktl', 'wong tai sin/ktl', 'lok fu/ktl', 'kowloon tong/ktl', 'shek kip mei/ktl', 'prince edward/ktl', 'prince edward/twl', 'mong kok/twl', 'yau ma tei/twl', 'jordan/twl', 'tsim sha tsui/twl']\n",
      "['kwai fong/twl', 'lai king/twl', 'lai king/tcl', 'nam cheong/tcl', 'olympic/tcl', 'kowloon/tcl', 'hong kong/tcl', 'central/il', 'central/twl', 'admiralty/twl', 'admiralty/il', 'wan chai/il', 'causeway bay/il', 'tin hau/il', 'fortress hill/il', 'north point/il', 'north point/tkol', 'quarry bay/tkol', 'yau tong/tkol', 'yau tong/ktl', 'lam tin/ktl', 'kwun tong/ktl', 'ngau tau kok/ktl', 'kowloon bay/ktl', 'choi hung/ktl', 'diamond hill/ktl', 'wong tai sin/ktl', 'lok fu/ktl', 'kowloon tong/ktl', 'shek kip mei/ktl', 'prince edward/ktl', 'mong kok/ktl', 'yau ma tei/ktl', 'yau ma tei/twl', 'jordan/twl', 'tsim sha tsui/twl']\n",
      "['kwai fong/twl', 'lai king/twl', 'lai king/tcl', 'nam cheong/tcl', 'olympic/tcl', 'kowloon/tcl', 'hong kong/tcl', 'central/il', 'central/twl', 'admiralty/twl', 'admiralty/il', 'wan chai/il', 'causeway bay/il', 'tin hau/il', 'fortress hill/il', 'north point/il', 'north point/tkol', 'quarry bay/tkol', 'yau tong/tkol', 'yau tong/ktl', 'lam tin/ktl', 'kwun tong/ktl', 'ngau tau kok/ktl', 'kowloon bay/ktl', 'choi hung/ktl', 'diamond hill/ktl', 'wong tai sin/ktl', 'lok fu/ktl', 'kowloon tong/ktl', 'shek kip mei/ktl', 'prince edward/ktl', 'mong kok/ktl', 'mong kok/twl', 'yau ma tei/twl', 'jordan/twl', 'tsim sha tsui/twl']\n",
      "['kwai fong/twl', 'lai king/twl', 'lai king/tcl', 'nam cheong/tcl', 'olympic/tcl', 'kowloon/tcl', 'hong kong/tcl', 'central/il', 'central/twl', 'admiralty/twl', 'admiralty/il', 'wan chai/il', 'causeway bay/il', 'tin hau/il', 'fortress hill/il', 'north point/il', 'north point/tkol', 'quarry bay/tkol', 'yau tong/tkol', 'yau tong/ktl', 'lam tin/ktl', 'kwun tong/ktl', 'ngau tau kok/ktl', 'kowloon bay/ktl', 'choi hung/ktl', 'diamond hill/ktl', 'wong tai sin/ktl', 'lok fu/ktl', 'kowloon tong/ktl', 'shek kip mei/ktl', 'prince edward/ktl', 'prince edward/twl', 'mong kok/twl', 'yau ma tei/twl', 'jordan/twl', 'tsim sha tsui/twl']\n",
      "['kwai fong/twl', 'lai king/twl', 'mei foo/twl', 'lai chi kok/twl', 'cheung sha wan/twl', 'sham shui po/twl', 'prince edward/twl', 'mong kok/twl', 'yau ma tei/twl', 'yau ma tei/ktl', 'mong kok/ktl', 'prince edward/ktl', 'shek kip mei/ktl', 'kowloon tong/ktl', 'lok fu/ktl', 'wong tai sin/ktl', 'diamond hill/ktl', 'choi hung/ktl', 'kowloon bay/ktl', 'ngau tau kok/ktl', 'kwun tong/ktl', 'lam tin/ktl', 'yau tong/ktl', 'tiu keng leng/ktl', 'tiu keng leng/tkol', 'yau tong/tkol', 'quarry bay/tkol', 'north point/tkol', 'north point/il', 'fortress hill/il', 'tin hau/il', 'causeway bay/il', 'wan chai/il', 'admiralty/il', 'central/il', 'central/twl', 'admiralty/twl', 'tsim sha tsui/twl']\n",
      "['kwai fong/twl', 'lai king/twl', 'mei foo/twl', 'lai chi kok/twl', 'cheung sha wan/twl', 'sham shui po/twl', 'prince edward/twl', 'mong kok/twl', 'yau ma tei/twl', 'yau ma tei/ktl', 'mong kok/ktl', 'prince edward/ktl', 'shek kip mei/ktl', 'kowloon tong/ktl', 'lok fu/ktl', 'wong tai sin/ktl', 'diamond hill/ktl', 'choi hung/ktl', 'kowloon bay/ktl', 'ngau tau kok/ktl', 'kwun tong/ktl', 'lam tin/ktl', 'yau tong/ktl', 'tiu keng leng/ktl', 'tiu keng leng/tkol', 'yau tong/tkol', 'quarry bay/tkol', 'quarry bay/il', 'north point/il', 'fortress hill/il', 'tin hau/il', 'causeway bay/il', 'wan chai/il', 'admiralty/il', 'central/il', 'central/twl', 'admiralty/twl', 'tsim sha tsui/twl']\n",
      "['kwai fong/twl', 'lai king/twl', 'lai king/tcl', 'nam cheong/tcl', 'olympic/tcl', 'kowloon/tcl', 'hong kong/tcl', 'central/il', 'admiralty/il', 'wan chai/il', 'causeway bay/il', 'tin hau/il', 'fortress hill/il', 'north point/il', 'quarry bay/il', 'quarry bay/tkol', 'yau tong/tkol', 'tiu keng leng/tkol', 'tiu keng leng/ktl', 'yau tong/ktl', 'lam tin/ktl', 'kwun tong/ktl', 'ngau tau kok/ktl', 'kowloon bay/ktl', 'choi hung/ktl', 'diamond hill/ktl', 'wong tai sin/ktl', 'lok fu/ktl', 'kowloon tong/ktl', 'shek kip mei/ktl', 'prince edward/ktl', 'prince edward/twl', 'mong kok/twl', 'mong kok/ktl', 'yau ma tei/ktl', 'yau ma tei/twl', 'jordan/twl', 'tsim sha tsui/twl']\n",
      "['kwai fong/twl', 'lai king/twl', 'lai king/tcl', 'nam cheong/tcl', 'olympic/tcl', 'kowloon/tcl', 'hong kong/tcl', 'central/il', 'admiralty/il', 'wan chai/il', 'causeway bay/il', 'tin hau/il', 'fortress hill/il', 'north point/il', 'north point/tkol', 'quarry bay/tkol', 'yau tong/tkol', 'tiu keng leng/tkol', 'tiu keng leng/ktl', 'yau tong/ktl', 'lam tin/ktl', 'kwun tong/ktl', 'ngau tau kok/ktl', 'kowloon bay/ktl', 'choi hung/ktl', 'diamond hill/ktl', 'wong tai sin/ktl', 'lok fu/ktl', 'kowloon tong/ktl', 'shek kip mei/ktl', 'prince edward/ktl', 'prince edward/twl', 'mong kok/twl', 'mong kok/ktl', 'yau ma tei/ktl', 'yau ma tei/twl', 'jordan/twl', 'tsim sha tsui/twl']\n",
      "['kwai fong/twl', 'lai king/twl', 'lai king/tcl', 'nam cheong/tcl', 'olympic/tcl', 'kowloon/tcl', 'hong kong/tcl', 'central/il', 'central/twl', 'admiralty/twl', 'admiralty/il', 'wan chai/il', 'causeway bay/il', 'tin hau/il', 'fortress hill/il', 'north point/il', 'quarry bay/il', 'quarry bay/tkol', 'yau tong/tkol', 'tiu keng leng/tkol', 'tiu keng leng/ktl', 'yau tong/ktl', 'lam tin/ktl', 'kwun tong/ktl', 'ngau tau kok/ktl', 'kowloon bay/ktl', 'choi hung/ktl', 'diamond hill/ktl', 'wong tai sin/ktl', 'lok fu/ktl', 'kowloon tong/ktl', 'shek kip mei/ktl', 'prince edward/ktl', 'mong kok/ktl', 'yau ma tei/ktl', 'yau ma tei/twl', 'jordan/twl', 'tsim sha tsui/twl']\n",
      "['kwai fong/twl', 'lai king/twl', 'lai king/tcl', 'nam cheong/tcl', 'olympic/tcl', 'kowloon/tcl', 'hong kong/tcl', 'central/il', 'central/twl', 'admiralty/twl', 'admiralty/il', 'wan chai/il', 'causeway bay/il', 'tin hau/il', 'fortress hill/il', 'north point/il', 'quarry bay/il', 'quarry bay/tkol', 'yau tong/tkol', 'tiu keng leng/tkol', 'tiu keng leng/ktl', 'yau tong/ktl', 'lam tin/ktl', 'kwun tong/ktl', 'ngau tau kok/ktl', 'kowloon bay/ktl', 'choi hung/ktl', 'diamond hill/ktl', 'wong tai sin/ktl', 'lok fu/ktl', 'kowloon tong/ktl', 'shek kip mei/ktl', 'prince edward/ktl', 'mong kok/ktl', 'mong kok/twl', 'yau ma tei/twl', 'jordan/twl', 'tsim sha tsui/twl']\n",
      "['kwai fong/twl', 'lai king/twl', 'lai king/tcl', 'nam cheong/tcl', 'olympic/tcl', 'kowloon/tcl', 'hong kong/tcl', 'central/il', 'central/twl', 'admiralty/twl', 'admiralty/il', 'wan chai/il', 'causeway bay/il', 'tin hau/il', 'fortress hill/il', 'north point/il', 'quarry bay/il', 'quarry bay/tkol', 'yau tong/tkol', 'tiu keng leng/tkol', 'tiu keng leng/ktl', 'yau tong/ktl', 'lam tin/ktl', 'kwun tong/ktl', 'ngau tau kok/ktl', 'kowloon bay/ktl', 'choi hung/ktl', 'diamond hill/ktl', 'wong tai sin/ktl', 'lok fu/ktl', 'kowloon tong/ktl', 'shek kip mei/ktl', 'prince edward/ktl', 'prince edward/twl', 'mong kok/twl', 'yau ma tei/twl', 'jordan/twl', 'tsim sha tsui/twl']\n",
      "['kwai fong/twl', 'lai king/twl', 'lai king/tcl', 'nam cheong/tcl', 'olympic/tcl', 'kowloon/tcl', 'hong kong/tcl', 'central/il', 'central/twl', 'admiralty/twl', 'admiralty/il', 'wan chai/il', 'causeway bay/il', 'tin hau/il', 'fortress hill/il', 'north point/il', 'quarry bay/il', 'quarry bay/tkol', 'yau tong/tkol', 'yau tong/ktl', 'lam tin/ktl', 'kwun tong/ktl', 'ngau tau kok/ktl', 'kowloon bay/ktl', 'choi hung/ktl', 'diamond hill/ktl', 'wong tai sin/ktl', 'lok fu/ktl', 'kowloon tong/ktl', 'shek kip mei/ktl', 'prince edward/ktl', 'prince edward/twl', 'mong kok/twl', 'mong kok/ktl', 'yau ma tei/ktl', 'yau ma tei/twl', 'jordan/twl', 'tsim sha tsui/twl']\n",
      "['kwai fong/twl', 'lai king/twl', 'lai king/tcl', 'nam cheong/tcl', 'olympic/tcl', 'kowloon/tcl', 'hong kong/tcl', 'central/il', 'central/twl', 'admiralty/twl', 'admiralty/il', 'wan chai/il', 'causeway bay/il', 'tin hau/il', 'fortress hill/il', 'north point/il', 'north point/tkol', 'quarry bay/tkol', 'yau tong/tkol', 'tiu keng leng/tkol', 'tiu keng leng/ktl', 'yau tong/ktl', 'lam tin/ktl', 'kwun tong/ktl', 'ngau tau kok/ktl', 'kowloon bay/ktl', 'choi hung/ktl', 'diamond hill/ktl', 'wong tai sin/ktl', 'lok fu/ktl', 'kowloon tong/ktl', 'shek kip mei/ktl', 'prince edward/ktl', 'mong kok/ktl', 'yau ma tei/ktl', 'yau ma tei/twl', 'jordan/twl', 'tsim sha tsui/twl']\n",
      "['kwai fong/twl', 'lai king/twl', 'lai king/tcl', 'nam cheong/tcl', 'olympic/tcl', 'kowloon/tcl', 'hong kong/tcl', 'central/il', 'central/twl', 'admiralty/twl', 'admiralty/il', 'wan chai/il', 'causeway bay/il', 'tin hau/il', 'fortress hill/il', 'north point/il', 'north point/tkol', 'quarry bay/tkol', 'yau tong/tkol', 'tiu keng leng/tkol', 'tiu keng leng/ktl', 'yau tong/ktl', 'lam tin/ktl', 'kwun tong/ktl', 'ngau tau kok/ktl', 'kowloon bay/ktl', 'choi hung/ktl', 'diamond hill/ktl', 'wong tai sin/ktl', 'lok fu/ktl', 'kowloon tong/ktl', 'shek kip mei/ktl', 'prince edward/ktl', 'mong kok/ktl', 'mong kok/twl', 'yau ma tei/twl', 'jordan/twl', 'tsim sha tsui/twl']\n",
      "['kwai fong/twl', 'lai king/twl', 'lai king/tcl', 'nam cheong/tcl', 'olympic/tcl', 'kowloon/tcl', 'hong kong/tcl', 'central/il', 'central/twl', 'admiralty/twl', 'admiralty/il', 'wan chai/il', 'causeway bay/il', 'tin hau/il', 'fortress hill/il', 'north point/il', 'north point/tkol', 'quarry bay/tkol', 'yau tong/tkol', 'tiu keng leng/tkol', 'tiu keng leng/ktl', 'yau tong/ktl', 'lam tin/ktl', 'kwun tong/ktl', 'ngau tau kok/ktl', 'kowloon bay/ktl', 'choi hung/ktl', 'diamond hill/ktl', 'wong tai sin/ktl', 'lok fu/ktl', 'kowloon tong/ktl', 'shek kip mei/ktl', 'prince edward/ktl', 'prince edward/twl', 'mong kok/twl', 'yau ma tei/twl', 'jordan/twl', 'tsim sha tsui/twl']\n",
      "['kwai fong/twl', 'lai king/twl', 'lai king/tcl', 'nam cheong/tcl', 'olympic/tcl', 'kowloon/tcl', 'hong kong/tcl', 'central/il', 'central/twl', 'admiralty/twl', 'admiralty/il', 'wan chai/il', 'causeway bay/il', 'tin hau/il', 'fortress hill/il', 'north point/il', 'north point/tkol', 'quarry bay/tkol', 'yau tong/tkol', 'yau tong/ktl', 'lam tin/ktl', 'kwun tong/ktl', 'ngau tau kok/ktl', 'kowloon bay/ktl', 'choi hung/ktl', 'diamond hill/ktl', 'wong tai sin/ktl', 'lok fu/ktl', 'kowloon tong/ktl', 'shek kip mei/ktl', 'prince edward/ktl', 'prince edward/twl', 'mong kok/twl', 'mong kok/ktl', 'yau ma tei/ktl', 'yau ma tei/twl', 'jordan/twl', 'tsim sha tsui/twl']\n",
      "['kwai fong/twl', 'lai king/twl', 'lai king/tcl', 'nam cheong/tcl', 'olympic/tcl', 'kowloon/tcl', 'hong kong/tcl', 'central/il', 'central/twl', 'admiralty/twl', 'admiralty/il', 'wan chai/il', 'causeway bay/il', 'tin hau/il', 'fortress hill/il', 'north point/il', 'quarry bay/il', 'quarry bay/tkol', 'yau tong/tkol', 'tiu keng leng/tkol', 'tiu keng leng/ktl', 'yau tong/ktl', 'lam tin/ktl', 'kwun tong/ktl', 'ngau tau kok/ktl', 'kowloon bay/ktl', 'choi hung/ktl', 'diamond hill/ktl', 'wong tai sin/ktl', 'lok fu/ktl', 'kowloon tong/ktl', 'shek kip mei/ktl', 'prince edward/ktl', 'prince edward/twl', 'mong kok/twl', 'mong kok/ktl', 'yau ma tei/ktl', 'yau ma tei/twl', 'jordan/twl', 'tsim sha tsui/twl']\n",
      "['kwai fong/twl', 'lai king/twl', 'lai king/tcl', 'nam cheong/tcl', 'olympic/tcl', 'kowloon/tcl', 'hong kong/tcl', 'central/il', 'central/twl', 'admiralty/twl', 'admiralty/il', 'wan chai/il', 'causeway bay/il', 'tin hau/il', 'fortress hill/il', 'north point/il', 'north point/tkol', 'quarry bay/tkol', 'yau tong/tkol', 'tiu keng leng/tkol', 'tiu keng leng/ktl', 'yau tong/ktl', 'lam tin/ktl', 'kwun tong/ktl', 'ngau tau kok/ktl', 'kowloon bay/ktl', 'choi hung/ktl', 'diamond hill/ktl', 'wong tai sin/ktl', 'lok fu/ktl', 'kowloon tong/ktl', 'shek kip mei/ktl', 'prince edward/ktl', 'prince edward/twl', 'mong kok/twl', 'mong kok/ktl', 'yau ma tei/ktl', 'yau ma tei/twl', 'jordan/twl', 'tsim sha tsui/twl']\n"
     ]
    }
   ],
   "source": [
    "# Depth First Search\n",
    "def getRoutes(graph, curr, end, cost, route=[]):\n",
    "    route = route + [curr]\n",
    "\n",
    "    if curr == end:\n",
    "        return [route]\n",
    "\n",
    "    routes = []\n",
    "    for adj_node in graph[curr]:\n",
    "        adj_station, cost = adj_node[0] , adj_node[1]\n",
    "        if adj_station not in route:\n",
    "            newRoutes = getRoutes(graph, adj_station, end, cost, route)\n",
    "\n",
    "            for newRoute in newRoutes:\n",
    "                routes.append(newRoute)\n",
    "                \n",
    "    routes.sort(key=len)\n",
    "    return routes\n",
    "\n",
    "start_node = getNodeByStation('kwai fong')\n",
    "goal_node = getNodeByStation('tsim sha tsui')\n",
    "\n",
    "for route in getRoutes(graph, start_node, goal_node, 0, route=[]):\n",
    "    print(route)"
   ]
  }
 ],
 "metadata": {
  "kernelspec": {
   "display_name": "Python 3.10.5 64-bit",
   "language": "python",
   "name": "python3"
  },
  "language_info": {
   "codemirror_mode": {
    "name": "ipython",
    "version": 3
   },
   "file_extension": ".py",
   "mimetype": "text/x-python",
   "name": "python",
   "nbconvert_exporter": "python",
   "pygments_lexer": "ipython3",
   "version": "3.10.5"
  },
  "orig_nbformat": 4,
  "vscode": {
   "interpreter": {
    "hash": "e593ac106456af50ce7af38f9671c411b49d6cd90f9b885e167f0f594e09038c"
   }
  }
 },
 "nbformat": 4,
 "nbformat_minor": 2
}
