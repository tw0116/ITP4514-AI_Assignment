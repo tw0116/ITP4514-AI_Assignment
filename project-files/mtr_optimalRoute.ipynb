{
 "cells": [
  {
   "cell_type": "markdown",
   "metadata": {},
   "source": [
    "# Optimal Path for Taking MTR Trains"
   ]
  },
  {
   "cell_type": "code",
   "execution_count": 55,
   "metadata": {},
   "outputs": [],
   "source": [
    "import json\n",
    "from pprint import PrettyPrinter, pprint\n",
    "from itertools import zip_longest\n"
   ]
  },
  {
   "cell_type": "code",
   "execution_count": 56,
   "metadata": {},
   "outputs": [
    {
     "name": "stdout",
     "output_type": "stream",
     "text": [
      "{'tsuen wan/twl': [['tai wo hau/twl', 2.0]]}\n",
      "{'tai wo hau/twl': [['tsuen wan/twl', 2.0], ['kwai hing/twl', 2.0]]}\n",
      "{'kwai hing/twl': [['tai wo hau/twl', 2.0], ['kwai fong/twl', 2.0]]}\n",
      "{'kwai fong/twl': [['kwai hing/twl', 2.0], ['lai king/twl', 2.0]]}\n",
      "{'lai king/twl': [['kwai fong/twl', 2.0], ['mei foo/twl', 2.0], ['lai king/tcl', 0]]}\n",
      "{'mei foo/twl': [['lai king/twl', 2.0], ['lai chi kok/twl', 2.0]]}\n",
      "{'lai chi kok/twl': [['mei foo/twl', 2.0], ['cheung sha wan/twl', 2.0]]}\n",
      "{'cheung sha wan/twl': [['lai chi kok/twl', 2.0], ['sham shui po/twl', 2.0]]}\n",
      "{'sham shui po/twl': [['cheung sha wan/twl', 2.0], ['prince edward/twl', 2.0]]}\n",
      "{'prince edward/twl': [['sham shui po/twl', 2.0], ['mong kok/twl', 2.0], ['prince edward/ktl', 0]]}\n",
      "{'mong kok/twl': [['prince edward/twl', 2.0], ['yau ma tei/twl', 2.0], ['mong kok/ktl', 0]]}\n",
      "{'yau ma tei/twl': [['mong kok/twl', 2.0], ['jordan/twl', 2.0], ['yau ma tei/ktl', 0]]}\n",
      "{'jordan/twl': [['yau ma tei/twl', 2.0], ['tsim sha tsui/twl', 2.0]]}\n",
      "{'tsim sha tsui/twl': [['jordan/twl', 2.0], ['admiralty/twl', 2.0]]}\n",
      "{'admiralty/twl': [['tsim sha tsui/twl', 2.0], ['central/twl', 2.0], ['admiralty/il', 0]]}\n",
      "{'central/twl': [['admiralty/twl', 2.0], ['central/il', 0]]}\n",
      "{'tung chung/tcl': [['sunny bay/tcl', 3.3]]}\n",
      "{'sunny bay/tcl': [['tung chung/tcl', 3.3], ['tsing yi/tcl', 3.3]]}\n",
      "{'tsing yi/tcl': [['sunny bay/tcl', 3.3], ['lai king/tcl', 3.3]]}\n",
      "{'lai king/tcl': [['tsing yi/tcl', 3.3], ['nam cheong/tcl', 3.3], ['lai king/twl', 0]]}\n",
      "{'nam cheong/tcl': [['lai king/tcl', 3.3], ['olympic/tcl', 3.3]]}\n",
      "{'olympic/tcl': [['nam cheong/tcl', 3.3], ['kowloon/tcl', 3.3]]}\n",
      "{'kowloon/tcl': [['olympic/tcl', 3.3], ['hong kong/tcl', 3.3]]}\n",
      "{'hong kong/tcl': [['kowloon/tcl', 3.3], ['central/il', 0]]}\n",
      "{'whampoa/ktl': [['ho man tin/ktl', 4.2]]}\n",
      "{'ho man tin/ktl': [['whampoa/ktl', 4.2], ['yau ma tei/ktl', 2.0]]}\n",
      "{'yau ma tei/ktl': [['ho man tin/ktl', 2.0], ['mong kok/ktl', 2.0], ['yau ma tei/twl', 0]]}\n",
      "{'mong kok/ktl': [['yau ma tei/ktl', 2.0], ['prince edward/ktl', 2.0], ['mong kok/twl', 0]]}\n",
      "{'prince edward/ktl': [['mong kok/ktl', 2.0], ['shek kip mei/ktl', 2.0], ['prince edward/twl', 0]]}\n",
      "{'shek kip mei/ktl': [['prince edward/ktl', 2.0], ['kowloon tong/ktl', 2.0]]}\n",
      "{'kowloon tong/ktl': [['shek kip mei/ktl', 2.0], ['lok fu/ktl', 2.0]]}\n",
      "{'lok fu/ktl': [['kowloon tong/ktl', 2.0], ['wong tai sin/ktl', 2.0]]}\n",
      "{'wong tai sin/ktl': [['lok fu/ktl', 2.0], ['diamond hill/ktl', 2.0]]}\n",
      "{'diamond hill/ktl': [['wong tai sin/ktl', 2.0], ['choi hung/ktl', 2.0]]}\n",
      "{'choi hung/ktl': [['diamond hill/ktl', 2.0], ['kowloon bay/ktl', 2.0]]}\n",
      "{'kowloon bay/ktl': [['choi hung/ktl', 2.0], ['ngau tau kok/ktl', 2.0]]}\n",
      "{'ngau tau kok/ktl': [['kowloon bay/ktl', 2.0], ['kwun tong/ktl', 2.0]]}\n",
      "{'kwun tong/ktl': [['ngau tau kok/ktl', 2.0], ['lam tin/ktl', 2.0]]}\n",
      "{'lam tin/ktl': [['kwun tong/ktl', 2.0], ['yau tong/ktl', 2.0]]}\n",
      "{'yau tong/ktl': [['lam tin/ktl', 2.0], ['tiu keng leng/ktl', 2.0], ['yau tong/tkol', 0]]}\n",
      "{'tiu keng leng/ktl': [['yau tong/ktl', 2.0], ['tiu keng leng/tkol', 0]]}\n",
      "{'kennedy town/il': [['hku/il', 1.9]]}\n",
      "{'hku/il': [['kennedy town/il', 1.9], ['sai ying pun/il', 1.9]]}\n",
      "{'sai ying pun/il': [['hku/il', 1.9], ['sheung wan/il', 1.9]]}\n",
      "{'sheung wan/il': [['sai ying pun/il', 1.9], ['central/il', 1.9]]}\n",
      "{'central/il': [['sheung wan/il', 1.9], ['admiralty/il', 1.9], ['central/twl', 0]]}\n",
      "{'admiralty/il': [['central/il', 1.9], ['wan chai/il', 1.9], ['admiralty/twl', 0]]}\n",
      "{'wan chai/il': [['admiralty/il', 1.9], ['causeway bay/il', 1.9]]}\n",
      "{'causeway bay/il': [['wan chai/il', 1.9], ['tin hau/il', 1.9]]}\n",
      "{'tin hau/il': [['causeway bay/il', 1.9], ['fortress hill/il', 1.9]]}\n",
      "{'fortress hill/il': [['tin hau/il', 1.9], ['north point/il', 1.9]]}\n",
      "{'north point/il': [['fortress hill/il', 1.9], ['quarry bay/il', 1.9], ['north point/tkol', 0]]}\n",
      "{'quarry bay/il': [['north point/il', 1.9], ['tai koo/il', 1.9], ['quarry bay/tkol', 0]]}\n",
      "{'tai koo/il': [['quarry bay/il', 1.9], ['sai wan ho/il', 1.9]]}\n",
      "{'sai wan ho/il': [['tai koo/il', 1.9], ['shau kei wan/il', 1.9]]}\n",
      "{'shau kei wan/il': [['sai wan ho/il', 1.9], ['heng fa chuen/il', 1.9]]}\n",
      "{'heng fa chuen/il': [['shau kei wan/il', 1.9], ['chai wan/il', 1.9]]}\n",
      "{'chai wan/il': [['heng fa chuen/il', 1.9]]}\n",
      "{'po lam/tkol': [['hang hau/tkol', 4.2]]}\n",
      "{'hang hau/tkol': [['po lam/tkol', 4.2], ['tseung kwan o/tkol', 4.2]]}\n",
      "{'lohas park/tkol': [['tseung kwan o/tkol', 4.2]]}\n",
      "{'tseung kwan o/tkol': [['hang hau/tkol', 4.2], ['tiu keng leng/tkol', 4.2], ['lohas park/tkol', 4.2]]}\n",
      "{'tiu keng leng/tkol': [['tseung kwan o/tkol', 4.2], ['yau tong/tkol', 4.2], ['tiu keng leng/ktl', 0]]}\n",
      "{'yau tong/tkol': [['tiu keng leng/tkol', 4.2], ['quarry bay/tkol', 4.2], ['yau tong/ktl', 0]]}\n",
      "{'quarry bay/tkol': [['yau tong/tkol', 4.2], ['north point/tkol', 4.2], ['quarry bay/il', 0]]}\n",
      "{'north point/tkol': [['quarry bay/tkol', 4.2], ['north point/il', 0]]}\n"
     ]
    }
   ],
   "source": [
    "weekdays_morningPeak = '../datasets/weakdays_morningPeak.json'\n",
    "weekdays_eveningPeak = '../datasets/weekdays_eveningPeak.json'\n",
    "weekdays_nonPeak = '../datasets/weekdays_nonPeak.json'\n",
    "\n",
    "def load_graph(file_name):\n",
    "    with open(file_name) as f:\n",
    "        data = json.load(f)\n",
    "        return data\n",
    "\n",
    "dataset = load_graph(weekdays_morningPeak)\n",
    "\n",
    "for item in dataset:\n",
    "    print({item: dataset[item]})"
   ]
  },
  {
   "cell_type": "code",
   "execution_count": 57,
   "metadata": {},
   "outputs": [
    {
     "name": "stdout",
     "output_type": "stream",
     "text": [
      "{'tsuen wan/twl': [['tai wo hau/twl', 2.0]]}\n",
      "{'tai wo hau/twl': [['tsuen wan/twl', 2.0], ['kwai hing/twl', 2.0]]}\n",
      "{'kwai hing/twl': [['tai wo hau/twl', 2.0], ['kwai fong/twl', 2.0]]}\n",
      "{'kwai fong/twl': [['kwai hing/twl', 2.0], ['lai king/twl', 2.0]]}\n",
      "{'lai king/twl': [['kwai fong/twl', 2.0], ['mei foo/twl', 2.0], ['lai king/tcl', 0]]}\n",
      "{'mei foo/twl': [['lai king/twl', 2.0], ['lai chi kok/twl', 2.0]]}\n",
      "{'lai chi kok/twl': [['mei foo/twl', 2.0], ['cheung sha wan/twl', 2.0]]}\n",
      "{'cheung sha wan/twl': [['lai chi kok/twl', 2.0], ['sham shui po/twl', 2.0]]}\n",
      "{'sham shui po/twl': [['cheung sha wan/twl', 2.0], ['prince edward/twl', 2.0]]}\n",
      "{'prince edward/twl': [['sham shui po/twl', 2.0], ['mong kok/twl', 2.0], ['prince edward/ktl', 0]]}\n",
      "{'mong kok/twl': [['prince edward/twl', 2.0], ['yau ma tei/twl', 2.0], ['mong kok/ktl', 0]]}\n",
      "{'yau ma tei/twl': [['mong kok/twl', 2.0], ['jordan/twl', 2.0], ['yau ma tei/ktl', 0]]}\n",
      "{'jordan/twl': [['yau ma tei/twl', 2.0], ['tsim sha tsui/twl', 2.0]]}\n",
      "{'tsim sha tsui/twl': [['jordan/twl', 2.0], ['admiralty/twl', 2.0]]}\n",
      "{'admiralty/twl': [['tsim sha tsui/twl', 2.0], ['central/twl', 2.0], ['admiralty/il', 0]]}\n",
      "{'central/twl': [['admiralty/twl', 2.0], ['central/il', 0]]}\n",
      "{'tung chung/tcl': [['sunny bay/tcl', 3.3]]}\n",
      "{'sunny bay/tcl': [['tung chung/tcl', 3.3], ['tsing yi/tcl', 3.3]]}\n",
      "{'tsing yi/tcl': [['sunny bay/tcl', 3.3], ['lai king/tcl', 3.3]]}\n",
      "{'lai king/tcl': [['tsing yi/tcl', 3.3], ['nam cheong/tcl', 3.3], ['lai king/twl', 0]]}\n",
      "{'nam cheong/tcl': [['lai king/tcl', 3.3], ['olympic/tcl', 3.3]]}\n",
      "{'olympic/tcl': [['nam cheong/tcl', 3.3], ['kowloon/tcl', 3.3]]}\n",
      "{'kowloon/tcl': [['olympic/tcl', 3.3], ['hong kong/tcl', 3.3]]}\n",
      "{'hong kong/tcl': [['kowloon/tcl', 3.3], ['central/il', 0]]}\n",
      "{'whampoa/ktl': [['ho man tin/ktl', 4.2]]}\n",
      "{'ho man tin/ktl': [['whampoa/ktl', 4.2], ['yau ma tei/ktl', 2.0]]}\n",
      "{'yau ma tei/ktl': [['ho man tin/ktl', 2.0], ['mong kok/ktl', 2.0], ['yau ma tei/twl', 0]]}\n",
      "{'mong kok/ktl': [['yau ma tei/ktl', 2.0], ['prince edward/ktl', 2.0], ['mong kok/twl', 0]]}\n",
      "{'prince edward/ktl': [['mong kok/ktl', 2.0], ['shek kip mei/ktl', 2.0], ['prince edward/twl', 0]]}\n",
      "{'shek kip mei/ktl': [['prince edward/ktl', 2.0], ['kowloon tong/ktl', 2.0]]}\n",
      "{'kowloon tong/ktl': [['shek kip mei/ktl', 2.0], ['lok fu/ktl', 2.0]]}\n",
      "{'lok fu/ktl': [['kowloon tong/ktl', 2.0], ['wong tai sin/ktl', 2.0]]}\n",
      "{'wong tai sin/ktl': [['lok fu/ktl', 2.0], ['diamond hill/ktl', 2.0]]}\n",
      "{'diamond hill/ktl': [['wong tai sin/ktl', 2.0], ['choi hung/ktl', 2.0]]}\n",
      "{'choi hung/ktl': [['diamond hill/ktl', 2.0], ['kowloon bay/ktl', 2.0]]}\n",
      "{'kowloon bay/ktl': [['choi hung/ktl', 2.0], ['ngau tau kok/ktl', 2.0]]}\n",
      "{'ngau tau kok/ktl': [['kowloon bay/ktl', 2.0], ['kwun tong/ktl', 2.0]]}\n",
      "{'kwun tong/ktl': [['ngau tau kok/ktl', 2.0], ['lam tin/ktl', 2.0]]}\n",
      "{'lam tin/ktl': [['kwun tong/ktl', 2.0], ['yau tong/ktl', 2.0]]}\n",
      "{'yau tong/ktl': [['lam tin/ktl', 2.0], ['tiu keng leng/ktl', 2.0], ['yau tong/tkol', 0]]}\n",
      "{'tiu keng leng/ktl': [['yau tong/ktl', 2.0], ['tiu keng leng/tkol', 0]]}\n",
      "{'kennedy town/il': [['hku/il', 1.9]]}\n",
      "{'hku/il': [['kennedy town/il', 1.9], ['sai ying pun/il', 1.9]]}\n",
      "{'sai ying pun/il': [['hku/il', 1.9], ['sheung wan/il', 1.9]]}\n",
      "{'sheung wan/il': [['sai ying pun/il', 1.9], ['central/il', 1.9]]}\n",
      "{'central/il': [['sheung wan/il', 1.9], ['admiralty/il', 1.9], ['central/twl', 0]]}\n",
      "{'admiralty/il': [['central/il', 1.9], ['wan chai/il', 1.9], ['admiralty/twl', 0]]}\n",
      "{'wan chai/il': [['admiralty/il', 1.9], ['causeway bay/il', 1.9]]}\n",
      "{'causeway bay/il': [['wan chai/il', 1.9], ['tin hau/il', 1.9]]}\n",
      "{'tin hau/il': [['causeway bay/il', 1.9], ['fortress hill/il', 1.9]]}\n",
      "{'fortress hill/il': [['tin hau/il', 1.9], ['north point/il', 1.9]]}\n",
      "{'north point/il': [['fortress hill/il', 1.9], ['quarry bay/il', 1.9], ['north point/tkol', 0]]}\n",
      "{'quarry bay/il': [['north point/il', 1.9], ['tai koo/il', 1.9], ['quarry bay/tkol', 0]]}\n",
      "{'tai koo/il': [['quarry bay/il', 1.9], ['sai wan ho/il', 1.9]]}\n",
      "{'sai wan ho/il': [['tai koo/il', 1.9], ['shau kei wan/il', 1.9]]}\n",
      "{'shau kei wan/il': [['sai wan ho/il', 1.9], ['heng fa chuen/il', 1.9]]}\n",
      "{'heng fa chuen/il': [['shau kei wan/il', 1.9], ['chai wan/il', 1.9]]}\n",
      "{'chai wan/il': [['heng fa chuen/il', 1.9]]}\n",
      "{'po lam/tkol': [['hang hau/tkol', 4.2]]}\n",
      "{'hang hau/tkol': [['po lam/tkol', 4.2], ['tseung kwan o/tkol', 4.2]]}\n",
      "{'lohas park/tkol': [['tseung kwan o/tkol', 4.2]]}\n",
      "{'tseung kwan o/tkol': [['hang hau/tkol', 4.2], ['tiu keng leng/tkol', 4.2], ['lohas park/tkol', 4.2]]}\n",
      "{'tiu keng leng/tkol': [['tseung kwan o/tkol', 4.2], ['yau tong/tkol', 4.2], ['tiu keng leng/ktl', 0]]}\n",
      "{'yau tong/tkol': [['tiu keng leng/tkol', 4.2], ['quarry bay/tkol', 4.2], ['yau tong/ktl', 0]]}\n",
      "{'quarry bay/tkol': [['yau tong/tkol', 4.2], ['north point/tkol', 4.2], ['quarry bay/il', 0]]}\n",
      "{'north point/tkol': [['quarry bay/tkol', 4.2], ['north point/il', 0]]}\n"
     ]
    }
   ],
   "source": [
    "def graphSelector(period):\n",
    "    global graph \n",
    "    if period == 0:\n",
    "        graph = load_graph(weekdays_morningPeak)\n",
    "    elif period == 1:\n",
    "        graph = load_graph(weekdays_eveningPeak)\n",
    "    elif period == 2:\n",
    "        graph = load_graph(weekdays_nonPeak)\n",
    "\n",
    "period = int(input('Please choose a time period: ( 0 - Morning hrs | 1 - Evening hrs | 2 - Non-peak hrs )'))\n",
    "graphSelector(period)\n",
    "\n",
    "for item in graph:\n",
    "    print({item: graph[item]})"
   ]
  },
  {
   "cell_type": "code",
   "execution_count": 58,
   "metadata": {},
   "outputs": [
    {
     "data": {
      "text/plain": [
       "'lai king/twl'"
      ]
     },
     "execution_count": 58,
     "metadata": {},
     "output_type": "execute_result"
    }
   ],
   "source": [
    "def getNodeByStation(graph, station):\n",
    "    for node in graph:\n",
    "        if station == node.split('/')[0]:\n",
    "            return node\n",
    "\n",
    "getNodeByStation(dataset, 'lai king')"
   ]
  },
  {
   "cell_type": "code",
   "execution_count": 59,
   "metadata": {},
   "outputs": [],
   "source": [
    "# Dijkstra’s Shortest Path Algorithm\n",
    "costs = dict()\n",
    "routes = dict()\n",
    "\n",
    "for station in graph:\n",
    "    costs[station] = 999999\n",
    "    routes[station] = {}\n",
    "\n",
    "visited = set()\n",
    "unvisited = set()\n",
    "\n",
    "# Get Optimal Routes Function\n",
    "def getOptimalRoutes(graph, costs, visited, unvisited, curr_station):\n",
    "\n",
    "    if curr_station in unvisited:\n",
    "        unvisited.remove(curr_station)\n",
    "    visited.add(curr_station)\n",
    "\n",
    "    for node in graph.items():\n",
    "        station = node[0]\n",
    "        adj_nodes = node[1]\n",
    "\n",
    "        for adj_node in adj_nodes:\n",
    "            adj_station = adj_node[0]\n",
    "            cost = adj_node[1]\n",
    "\n",
    "            if (station == curr_station and adj_station not in visited and costs[station] + cost < costs[adj_station]):\n",
    "\n",
    "                unvisited.add(adj_station)   \n",
    "\n",
    "                costs[adj_station] = costs[station] + cost\n",
    "                 \n",
    "                if curr_station.split('/')[1] != adj_station.split('/')[1]:\n",
    "                    routes[station]['Line'] = routes[station]['Line'] + [adj_station.split('/')[1].upper()]\n",
    "                else: routes[station]['Line']\n",
    "\n",
    "                if curr_station.split('/')[1] != adj_station.split('/')[1]:\n",
    "                    routes[station]['Transfer Station'] = routes[station]['Transfer Station'] + [adj_station.split('/')[0].title()]\n",
    "                else: routes[station]['Transfer Station']\n",
    "\n",
    "                routes[adj_station] = {\n",
    "                    'Route': (\n",
    "                        routes[station]['Route'] + ' -> ' + adj_station.split('/')[0].title()\n",
    "                        if curr_station.split('/')[0] != adj_station.split('/')[0] \n",
    "                        else routes[station]['Route']\n",
    "                    ),\n",
    "                    'Line': routes[station]['Line'],\n",
    "                    'Transfer Station': routes[station]['Transfer Station'],\n",
    "                    'Weight': round(costs[adj_station])\n",
    "                }\n",
    "    \n",
    "    costs[curr_station] = 999999\n",
    "    optimal = min(costs, key = costs.get)\n",
    "\n",
    "    if optimal not in visited:\n",
    "        getOptimalRoutes(graph, costs, visited, unvisited, optimal)"
   ]
  },
  {
   "cell_type": "code",
   "execution_count": 60,
   "metadata": {},
   "outputs": [],
   "source": [
    "start = input(\"Enter the Start Node: \")\n",
    "goal = input(\"Enter the Goal Node: \")\n",
    "\n",
    "start_node = getNodeByStation(dataset, start)\n",
    "goal_node = getNodeByStation(dataset, goal)\n",
    "\n",
    "unvisited.add(start_node)\n",
    "routes[start_node] = {'Route': start_node.split('/')[0].title(), 'Line': [start_node.split('/')[1].upper()], 'Transfer Station': []}\n",
    "costs[start_node] = 0"
   ]
  },
  {
   "cell_type": "code",
   "execution_count": 61,
   "metadata": {},
   "outputs": [
    {
     "name": "stdout",
     "output_type": "stream",
     "text": [
      "Result: {'Route': 'Lai King -> Nam Cheong -> Olympic -> Kowloon -> Hong Kong -> Central -> Admiralty -> Wan Chai -> Causeway Bay -> Tin Hau', 'Line': ['TWL', 'TCL', 'IL'], 'Transfer Station': ['Lai King', 'Central'], 'Weight': 21}\n"
     ]
    }
   ],
   "source": [
    "getOptimalRoutes(graph, costs, visited, unvisited, start_node)\n",
    "print(\"Result:\", routes[goal_node])"
   ]
  },
  {
   "cell_type": "code",
   "execution_count": 62,
   "metadata": {},
   "outputs": [
    {
     "name": "stdout",
     "output_type": "stream",
     "text": [
      "~21 min(s)\t2 Interchange\t10 Stops\n",
      "(Lai King)--TWL--(Lai King)--TCL--(Central)--IL--(Tin Hau)\n"
     ]
    }
   ],
   "source": [
    "for result in routes[goal_node].items():\n",
    "    if result[0] == 'Route':\n",
    "        route = result[1]\n",
    "\n",
    "    if result[0] == 'Line':\n",
    "        line = result[1]\n",
    "\n",
    "    if result[0] == 'Transfer Station':\n",
    "        transfer_station = result[1]\n",
    "\n",
    "    if result[0] == 'Weight':\n",
    "        weight = result[1]\n",
    "\n",
    "# Final Output\n",
    "interchange = [[x for x in t if x is not None] for t in zip_longest(line, transfer_station)]\n",
    "solution = '(' + str(start.title()) + ')'\n",
    "for l in interchange: \n",
    "    if len(l) == 1:\n",
    "        solution = solution + '--' + l[0] + '--'\n",
    "    else:\n",
    "        solution = solution + '--' + l[0] + '--' + '(' + l[1] + ')'\n",
    "solution = solution + '(' + str(goal.title()) + ')'\n",
    "\n",
    "print('~' + str(weight) + ' min(s)\\t' + str(len(transfer_station)) + ' Interchange\\t' + str(len(route.split(' -> ')))  + ' Stops')\n",
    "print(solution)"
   ]
  }
 ],
 "metadata": {
  "kernelspec": {
   "display_name": "Python 3.10.5 64-bit",
   "language": "python",
   "name": "python3"
  },
  "language_info": {
   "codemirror_mode": {
    "name": "ipython",
    "version": 3
   },
   "file_extension": ".py",
   "mimetype": "text/x-python",
   "name": "python",
   "nbconvert_exporter": "python",
   "pygments_lexer": "ipython3",
   "version": "3.10.5"
  },
  "orig_nbformat": 4,
  "vscode": {
   "interpreter": {
    "hash": "e593ac106456af50ce7af38f9671c411b49d6cd90f9b885e167f0f594e09038c"
   }
  }
 },
 "nbformat": 4,
 "nbformat_minor": 2
}
